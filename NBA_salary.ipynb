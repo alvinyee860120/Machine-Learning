{
  "nbformat": 4,
  "nbformat_minor": 0,
  "metadata": {
    "colab": {
      "name": "NBA_salary.ipynb",
      "version": "0.3.2",
      "provenance": [],
      "collapsed_sections": []
    },
    "kernelspec": {
      "name": "python3",
      "display_name": "Python 3"
    }
  },
  "cells": [
    {
      "cell_type": "code",
      "metadata": {
        "id": "Nw8au8oN4Vm2",
        "colab_type": "code",
        "colab": {}
      },
      "source": [
        "import pandas as pd\n",
        "import numpy as np\n",
        "import matplotlib.pyplot as plt\n",
        "import scipy.stats as st\n",
        "import seaborn as sns"
      ],
      "execution_count": 0,
      "outputs": []
    },
    {
      "cell_type": "code",
      "metadata": {
        "id": "qegqg3Fo5NvC",
        "colab_type": "code",
        "outputId": "8a57f383-d278-446d-819f-331c4072b640",
        "colab": {
          "resources": {
            "http://localhost:8080/nbextensions/google.colab/files.js": {
              "data": "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",
              "ok": true,
              "headers": [
                [
                  "content-type",
                  "application/javascript"
                ]
              ],
              "status": 200,
              "status_text": ""
            }
          },
          "base_uri": "https://localhost:8080/",
          "height": 76
        }
      },
      "source": [
        "from google.colab import files\n",
        "uploaded = files.upload()"
      ],
      "execution_count": 0,
      "outputs": [
        {
          "output_type": "display_data",
          "data": {
            "text/html": [
              "\n",
              "     <input type=\"file\" id=\"files-a57aafcf-da4a-404e-8e2c-6fd6214fe24e\" name=\"files[]\" multiple disabled />\n",
              "     <output id=\"result-a57aafcf-da4a-404e-8e2c-6fd6214fe24e\">\n",
              "      Upload widget is only available when the cell has been executed in the\n",
              "      current browser session. Please rerun this cell to enable.\n",
              "      </output>\n",
              "      <script src=\"/nbextensions/google.colab/files.js\"></script> "
            ],
            "text/plain": [
              "<IPython.core.display.HTML object>"
            ]
          },
          "metadata": {
            "tags": []
          }
        },
        {
          "output_type": "stream",
          "text": [
            "Saving NBA_season1718_salary.csv to NBA_season1718_salary (2).csv\n"
          ],
          "name": "stdout"
        }
      ]
    },
    {
      "cell_type": "code",
      "metadata": {
        "id": "QlUJlzxe5cB5",
        "colab_type": "code",
        "colab": {}
      },
      "source": [
        "import io\n",
        "df = pd.read_csv(io.BytesIO(uploaded['NBA_season1718_salary.csv']))"
      ],
      "execution_count": 0,
      "outputs": []
    },
    {
      "cell_type": "code",
      "metadata": {
        "id": "4TJ1EDFg6o85",
        "colab_type": "code",
        "outputId": "9b40843b-d2f1-405d-d148-32ccb06e7c3e",
        "colab": {
          "base_uri": "https://localhost:8080/",
          "height": 177
        }
      },
      "source": [
        "df.head()\n",
        "df.info()"
      ],
      "execution_count": 0,
      "outputs": [
        {
          "output_type": "stream",
          "text": [
            "<class 'pandas.core.frame.DataFrame'>\n",
            "RangeIndex: 573 entries, 0 to 572\n",
            "Data columns (total 4 columns):\n",
            "Unnamed: 0     573 non-null int64\n",
            "Player         573 non-null object\n",
            "Tm             573 non-null object\n",
            "season17_18    573 non-null float64\n",
            "dtypes: float64(1), int64(1), object(2)\n",
            "memory usage: 18.0+ KB\n"
          ],
          "name": "stdout"
        }
      ]
    },
    {
      "cell_type": "code",
      "metadata": {
        "id": "0xkE2vnI7j2R",
        "colab_type": "code",
        "outputId": "f94fd3fb-6a34-4094-ce8b-1a5d8c0bc8ec",
        "colab": {
          "base_uri": "https://localhost:8080/",
          "height": 194
        }
      },
      "source": [
        "df.columns = ['cod', 'player', 'team', 'salary']\n",
        "del df['cod']\n",
        "df.head()"
      ],
      "execution_count": 0,
      "outputs": [
        {
          "output_type": "execute_result",
          "data": {
            "text/html": [
              "<div>\n",
              "<style scoped>\n",
              "    .dataframe tbody tr th:only-of-type {\n",
              "        vertical-align: middle;\n",
              "    }\n",
              "\n",
              "    .dataframe tbody tr th {\n",
              "        vertical-align: top;\n",
              "    }\n",
              "\n",
              "    .dataframe thead th {\n",
              "        text-align: right;\n",
              "    }\n",
              "</style>\n",
              "<table border=\"1\" class=\"dataframe\">\n",
              "  <thead>\n",
              "    <tr style=\"text-align: right;\">\n",
              "      <th></th>\n",
              "      <th>player</th>\n",
              "      <th>team</th>\n",
              "      <th>salary</th>\n",
              "    </tr>\n",
              "  </thead>\n",
              "  <tbody>\n",
              "    <tr>\n",
              "      <th>0</th>\n",
              "      <td>Stephen Curry</td>\n",
              "      <td>GSW</td>\n",
              "      <td>34682550.0</td>\n",
              "    </tr>\n",
              "    <tr>\n",
              "      <th>1</th>\n",
              "      <td>LeBron James</td>\n",
              "      <td>CLE</td>\n",
              "      <td>33285709.0</td>\n",
              "    </tr>\n",
              "    <tr>\n",
              "      <th>2</th>\n",
              "      <td>Paul Millsap</td>\n",
              "      <td>DEN</td>\n",
              "      <td>31269231.0</td>\n",
              "    </tr>\n",
              "    <tr>\n",
              "      <th>3</th>\n",
              "      <td>Gordon Hayward</td>\n",
              "      <td>BOS</td>\n",
              "      <td>29727900.0</td>\n",
              "    </tr>\n",
              "    <tr>\n",
              "      <th>4</th>\n",
              "      <td>Blake Griffin</td>\n",
              "      <td>DET</td>\n",
              "      <td>29512900.0</td>\n",
              "    </tr>\n",
              "  </tbody>\n",
              "</table>\n",
              "</div>"
            ],
            "text/plain": [
              "           player team      salary\n",
              "0   Stephen Curry  GSW  34682550.0\n",
              "1    LeBron James  CLE  33285709.0\n",
              "2    Paul Millsap  DEN  31269231.0\n",
              "3  Gordon Hayward  BOS  29727900.0\n",
              "4   Blake Griffin  DET  29512900.0"
            ]
          },
          "metadata": {
            "tags": []
          },
          "execution_count": 11
        }
      ]
    },
    {
      "cell_type": "code",
      "metadata": {
        "id": "5hlbjilX7u8y",
        "colab_type": "code",
        "outputId": "88458050-4b1e-42fd-f69e-cd71864a4e85",
        "colab": {
          "base_uri": "https://localhost:8080/",
          "height": 387
        }
      },
      "source": [
        "team_index = df['team'].value_counts()\n",
        "sns.catplot(data=df,\n",
        "            x='team',\n",
        "            order=team_index.index,\n",
        "            kind='count',\n",
        "            aspect=2.5,\n",
        "            palette='GnBu_d')"
      ],
      "execution_count": 0,
      "outputs": [
        {
          "output_type": "execute_result",
          "data": {
            "text/plain": [
              "<seaborn.axisgrid.FacetGrid at 0x7f9c7dbe7f28>"
            ]
          },
          "metadata": {
            "tags": []
          },
          "execution_count": 12
        },
        {
          "output_type": "display_data",
          "data": {
            "image/png": "[encoded data removed]",
            "text/plain": [
              "<Figure size 900x360 with 1 Axes>"
            ]
          },
          "metadata": {
            "tags": []
          }
        }
      ]
    },
    {
      "cell_type": "code",
      "metadata": {
        "id": "XrlvqHr9TGTL",
        "colab_type": "code",
        "outputId": "4cf8d91b-e88b-41eb-d44a-bb7409b88a81",
        "colab": {
          "base_uri": "https://localhost:8080/",
          "height": 194
        }
      },
      "source": [
        "df.head()"
      ],
      "execution_count": 0,
      "outputs": [
        {
          "output_type": "execute_result",
          "data": {
            "text/html": [
              "<div>\n",
              "<style scoped>\n",
              "    .dataframe tbody tr th:only-of-type {\n",
              "        vertical-align: middle;\n",
              "    }\n",
              "\n",
              "    .dataframe tbody tr th {\n",
              "        vertical-align: top;\n",
              "    }\n",
              "\n",
              "    .dataframe thead th {\n",
              "        text-align: right;\n",
              "    }\n",
              "</style>\n",
              "<table border=\"1\" class=\"dataframe\">\n",
              "  <thead>\n",
              "    <tr style=\"text-align: right;\">\n",
              "      <th></th>\n",
              "      <th>player</th>\n",
              "      <th>team</th>\n",
              "      <th>salary</th>\n",
              "    </tr>\n",
              "  </thead>\n",
              "  <tbody>\n",
              "    <tr>\n",
              "      <th>0</th>\n",
              "      <td>Stephen Curry</td>\n",
              "      <td>GSW</td>\n",
              "      <td>34682550.0</td>\n",
              "    </tr>\n",
              "    <tr>\n",
              "      <th>1</th>\n",
              "      <td>LeBron James</td>\n",
              "      <td>CLE</td>\n",
              "      <td>33285709.0</td>\n",
              "    </tr>\n",
              "    <tr>\n",
              "      <th>2</th>\n",
              "      <td>Paul Millsap</td>\n",
              "      <td>DEN</td>\n",
              "      <td>31269231.0</td>\n",
              "    </tr>\n",
              "    <tr>\n",
              "      <th>3</th>\n",
              "      <td>Gordon Hayward</td>\n",
              "      <td>BOS</td>\n",
              "      <td>29727900.0</td>\n",
              "    </tr>\n",
              "    <tr>\n",
              "      <th>4</th>\n",
              "      <td>Blake Griffin</td>\n",
              "      <td>DET</td>\n",
              "      <td>29512900.0</td>\n",
              "    </tr>\n",
              "  </tbody>\n",
              "</table>\n",
              "</div>"
            ],
            "text/plain": [
              "           player team      salary\n",
              "0   Stephen Curry  GSW  34682550.0\n",
              "1    LeBron James  CLE  33285709.0\n",
              "2    Paul Millsap  DEN  31269231.0\n",
              "3  Gordon Hayward  BOS  29727900.0\n",
              "4   Blake Griffin  DET  29512900.0"
            ]
          },
          "metadata": {
            "tags": []
          },
          "execution_count": 13
        }
      ]
    },
    {
      "cell_type": "code",
      "metadata": {
        "id": "a0lk4P0_3Fff",
        "colab_type": "code",
        "outputId": "c3943ec1-3c6c-4033-e5e5-a109b473bad0",
        "colab": {
          "base_uri": "https://localhost:8080/",
          "height": 308
        }
      },
      "source": [
        "plt.figure(figsize=(8, 4))\n",
        "sns.distplot(df['salary'], bins=40)"
      ],
      "execution_count": 0,
      "outputs": [
        {
          "output_type": "execute_result",
          "data": {
            "text/plain": [
              "<matplotlib.axes._subplots.AxesSubplot at 0x7f9c7db03b00>"
            ]
          },
          "metadata": {
            "tags": []
          },
          "execution_count": 14
        },
        {
          "output_type": "display_data",
          "data": {
            "image/png": "[encoded data removed]",
            "text/plain": [
              "<Figure size 576x288 with 1 Axes>"
            ]
          },
          "metadata": {
            "tags": []
          }
        }
      ]
    },
    {
      "cell_type": "code",
      "metadata": {
        "id": "oioGL7c9HPx4",
        "colab_type": "code",
        "outputId": "47cd771a-3753-481f-ee0a-bc1f0a74a394",
        "colab": {
          "base_uri": "https://localhost:8080/",
          "height": 289
        }
      },
      "source": [
        "x = df['salary']\n",
        "\n",
        "plt.figure(figsize=(8, 4))\n",
        "plt.plot(x, st.norm.pdf(x, x.mean(), x.std()))\n",
        "plt.show()"
      ],
      "execution_count": 0,
      "outputs": [
        {
          "output_type": "display_data",
          "data": {
            "image/png": "[encoded data removed]",
            "text/plain": [
              "<Figure size 576x288 with 1 Axes>"
            ]
          },
          "metadata": {
            "tags": []
          }
        }
      ]
    },
    {
      "cell_type": "code",
      "metadata": {
        "id": "ungnv96NHjRV",
        "colab_type": "code",
        "outputId": "349289eb-cb63-45b5-c88a-8e2ef52fa55e",
        "colab": {
          "base_uri": "https://localhost:8080/",
          "height": 301
        }
      },
      "source": [
        "\n",
        "df['salary_log'] = np.log1p(df['salary'])\n",
        "sns.distplot(df['salary_log'], bins=25)"
      ],
      "execution_count": 0,
      "outputs": [
        {
          "output_type": "execute_result",
          "data": {
            "text/plain": [
              "<matplotlib.axes._subplots.AxesSubplot at 0x7f9c7dbc5cc0>"
            ]
          },
          "metadata": {
            "tags": []
          },
          "execution_count": 16
        },
        {
          "output_type": "display_data",
          "data": {
            "image/png": "[encoded data removed]",
            "text/plain": [
              "<Figure size 432x288 with 1 Axes>"
            ]
          },
          "metadata": {
            "tags": []
          }
        }
      ]
    },
    {
      "cell_type": "code",
      "metadata": {
        "id": "yZYXHEkUIYXT",
        "colab_type": "code",
        "outputId": "69c29a0d-8f41-4387-d41c-38eddc7b461e",
        "colab": {
          "base_uri": "https://localhost:8080/",
          "height": 301
        }
      },
      "source": [
        "#標準化(standardized)\n",
        "df['norm_log_salary'] = ((df['salary_log'] - df['salary_log'].mean()) / df['salary_log'].std())\n",
        "sns.distplot(df['norm_log_salary'], bins=25)"
      ],
      "execution_count": 0,
      "outputs": [
        {
          "output_type": "execute_result",
          "data": {
            "text/plain": [
              "<matplotlib.axes._subplots.AxesSubplot at 0x7f9c7ad70dd8>"
            ]
          },
          "metadata": {
            "tags": []
          },
          "execution_count": 17
        },
        {
          "output_type": "display_data",
          "data": {
            "image/png": "[encoded data removed]",
            "text/plain": [
              "<Figure size 432x288 with 1 Axes>"
            ]
          },
          "metadata": {
            "tags": []
          }
        }
      ]
    },
    {
      "cell_type": "code",
      "metadata": {
        "id": "nCSvcneKI2OS",
        "colab_type": "code",
        "outputId": "b8d4b852-d4aa-4459-ce26-23e6fecc9574",
        "colab": {
          "base_uri": "https://localhost:8080/",
          "height": 52
        }
      },
      "source": [
        "print(f\"\"\"Mean: {df.norm_log_salary.mean():.4f}\n",
        "Standard: {df.norm_log_salary.std():.4f}\"\"\")"
      ],
      "execution_count": 0,
      "outputs": [
        {
          "output_type": "stream",
          "text": [
            "Mean: 0.0000\n",
            "Standard: 1.0000\n"
          ],
          "name": "stdout"
        }
      ]
    },
    {
      "cell_type": "code",
      "metadata": {
        "id": "zL5eV4R0JTmG",
        "colab_type": "code",
        "outputId": "7e37ad3f-e319-4ca9-a1d7-ffcc7fba2257",
        "colab": {
          "base_uri": "https://localhost:8080/",
          "height": 35
        }
      },
      "source": [
        "norm_mean = df.norm_log_salary.mean()\n",
        "norm_std = df.norm_log_salary.std()\n",
        "\n",
        "p_value = st.norm(norm_mean, norm_std).sf(2*norm_std) * 2 #to sides\n",
        "p_value"
      ],
      "execution_count": 0,
      "outputs": [
        {
          "output_type": "execute_result",
          "data": {
            "text/plain": [
              "0.04550026389635878"
            ]
          },
          "metadata": {
            "tags": []
          },
          "execution_count": 19
        }
      ]
    },
    {
      "cell_type": "code",
      "metadata": {
        "id": "bQPJwuckLItz",
        "colab_type": "code",
        "outputId": "74b71919-7fc8-4490-82ca-489ea0c6dc07",
        "colab": {
          "base_uri": "https://localhost:8080/",
          "height": 35
        }
      },
      "source": [
        "z_score_inf = st.norm.interval(alpha=0.95, loc=norm_mean, scale=norm_std)[0]\n",
        "z_score_sup = st.norm.interval(alpha=0.95, loc=norm_mean, scale=norm_std)[1]\n",
        "\n",
        "print(f'{z_score_inf:.4f} <--------> {z_score_sup:.4f}')\n"
      ],
      "execution_count": 0,
      "outputs": [
        {
          "output_type": "stream",
          "text": [
            "-1.9600 <--------> 1.9600\n"
          ],
          "name": "stdout"
        }
      ]
    },
    {
      "cell_type": "code",
      "metadata": {
        "id": "-01XC8MhLX2s",
        "colab_type": "code",
        "outputId": "3af05a74-03dc-4680-8d5e-6101ea6c166a",
        "colab": {
          "base_uri": "https://localhost:8080/",
          "height": 1000
        }
      },
      "source": [
        "df_lower = df[df['norm_log_salary'] < z_score_inf]\n",
        "df_lower"
      ],
      "execution_count": 0,
      "outputs": [
        {
          "output_type": "execute_result",
          "data": {
            "text/html": [
              "<div>\n",
              "<style scoped>\n",
              "    .dataframe tbody tr th:only-of-type {\n",
              "        vertical-align: middle;\n",
              "    }\n",
              "\n",
              "    .dataframe tbody tr th {\n",
              "        vertical-align: top;\n",
              "    }\n",
              "\n",
              "    .dataframe thead th {\n",
              "        text-align: right;\n",
              "    }\n",
              "</style>\n",
              "<table border=\"1\" class=\"dataframe\">\n",
              "  <thead>\n",
              "    <tr style=\"text-align: right;\">\n",
              "      <th></th>\n",
              "      <th>player</th>\n",
              "      <th>team</th>\n",
              "      <th>salary</th>\n",
              "      <th>salary_log</th>\n",
              "      <th>norm_log_salary</th>\n",
              "    </tr>\n",
              "  </thead>\n",
              "  <tbody>\n",
              "    <tr>\n",
              "      <th>528</th>\n",
              "      <td>Demetrius Jackson</td>\n",
              "      <td>HOU</td>\n",
              "      <td>74159.0</td>\n",
              "      <td>11.213980</td>\n",
              "      <td>-1.988587</td>\n",
              "    </tr>\n",
              "    <tr>\n",
              "      <th>529</th>\n",
              "      <td>Georgios Papagiannis</td>\n",
              "      <td>POR</td>\n",
              "      <td>74159.0</td>\n",
              "      <td>11.213980</td>\n",
              "      <td>-1.988587</td>\n",
              "    </tr>\n",
              "    <tr>\n",
              "      <th>530</th>\n",
              "      <td>Larry Drew</td>\n",
              "      <td>NOP</td>\n",
              "      <td>74159.0</td>\n",
              "      <td>11.213980</td>\n",
              "      <td>-1.988587</td>\n",
              "    </tr>\n",
              "    <tr>\n",
              "      <th>531</th>\n",
              "      <td>Scotty Hopson</td>\n",
              "      <td>DAL</td>\n",
              "      <td>74159.0</td>\n",
              "      <td>11.213980</td>\n",
              "      <td>-1.988587</td>\n",
              "    </tr>\n",
              "    <tr>\n",
              "      <th>532</th>\n",
              "      <td>Isaiah Canaan</td>\n",
              "      <td>HOU</td>\n",
              "      <td>53465.0</td>\n",
              "      <td>10.886801</td>\n",
              "      <td>-2.179385</td>\n",
              "    </tr>\n",
              "    <tr>\n",
              "      <th>533</th>\n",
              "      <td>Tyler Cavanaugh</td>\n",
              "      <td>ATL</td>\n",
              "      <td>50000.0</td>\n",
              "      <td>10.819798</td>\n",
              "      <td>-2.218459</td>\n",
              "    </tr>\n",
              "    <tr>\n",
              "      <th>534</th>\n",
              "      <td>Kyle Collinsworth</td>\n",
              "      <td>DAL</td>\n",
              "      <td>50000.0</td>\n",
              "      <td>10.819798</td>\n",
              "      <td>-2.218459</td>\n",
              "    </tr>\n",
              "    <tr>\n",
              "      <th>535</th>\n",
              "      <td>Demetrius Jackson</td>\n",
              "      <td>HOU</td>\n",
              "      <td>50000.0</td>\n",
              "      <td>10.819798</td>\n",
              "      <td>-2.218459</td>\n",
              "    </tr>\n",
              "    <tr>\n",
              "      <th>536</th>\n",
              "      <td>Daniel Ochefu</td>\n",
              "      <td>WAS</td>\n",
              "      <td>50000.0</td>\n",
              "      <td>10.819798</td>\n",
              "      <td>-2.218459</td>\n",
              "    </tr>\n",
              "    <tr>\n",
              "      <th>537</th>\n",
              "      <td>Michael Young</td>\n",
              "      <td>WAS</td>\n",
              "      <td>50000.0</td>\n",
              "      <td>10.819798</td>\n",
              "      <td>-2.218459</td>\n",
              "    </tr>\n",
              "    <tr>\n",
              "      <th>538</th>\n",
              "      <td>Nate Wolters</td>\n",
              "      <td>UTA</td>\n",
              "      <td>50000.0</td>\n",
              "      <td>10.819798</td>\n",
              "      <td>-2.218459</td>\n",
              "    </tr>\n",
              "    <tr>\n",
              "      <th>539</th>\n",
              "      <td>Naz Mitrou-Long</td>\n",
              "      <td>UTA</td>\n",
              "      <td>50000.0</td>\n",
              "      <td>10.819798</td>\n",
              "      <td>-2.218459</td>\n",
              "    </tr>\n",
              "    <tr>\n",
              "      <th>540</th>\n",
              "      <td>Eric Griffin</td>\n",
              "      <td>UTA</td>\n",
              "      <td>50000.0</td>\n",
              "      <td>10.819798</td>\n",
              "      <td>-2.218459</td>\n",
              "    </tr>\n",
              "    <tr>\n",
              "      <th>541</th>\n",
              "      <td>Jacob Pullen</td>\n",
              "      <td>PHI</td>\n",
              "      <td>50000.0</td>\n",
              "      <td>10.819798</td>\n",
              "      <td>-2.218459</td>\n",
              "    </tr>\n",
              "    <tr>\n",
              "      <th>542</th>\n",
              "      <td>James Michael McAdoo</td>\n",
              "      <td>PHI</td>\n",
              "      <td>50000.0</td>\n",
              "      <td>10.819798</td>\n",
              "      <td>-2.218459</td>\n",
              "    </tr>\n",
              "    <tr>\n",
              "      <th>543</th>\n",
              "      <td>Nigel Hayes</td>\n",
              "      <td>NYK</td>\n",
              "      <td>50000.0</td>\n",
              "      <td>10.819798</td>\n",
              "      <td>-2.218459</td>\n",
              "    </tr>\n",
              "    <tr>\n",
              "      <th>544</th>\n",
              "      <td>Jalen Moore</td>\n",
              "      <td>MIL</td>\n",
              "      <td>50000.0</td>\n",
              "      <td>10.819798</td>\n",
              "      <td>-2.218459</td>\n",
              "    </tr>\n",
              "    <tr>\n",
              "      <th>545</th>\n",
              "      <td>Gary Payton</td>\n",
              "      <td>MIL</td>\n",
              "      <td>50000.0</td>\n",
              "      <td>10.819798</td>\n",
              "      <td>-2.218459</td>\n",
              "    </tr>\n",
              "    <tr>\n",
              "      <th>546</th>\n",
              "      <td>Matt Williams</td>\n",
              "      <td>MIA</td>\n",
              "      <td>50000.0</td>\n",
              "      <td>10.819798</td>\n",
              "      <td>-2.218459</td>\n",
              "    </tr>\n",
              "    <tr>\n",
              "      <th>547</th>\n",
              "      <td>Vince Hunter</td>\n",
              "      <td>MEM</td>\n",
              "      <td>50000.0</td>\n",
              "      <td>10.819798</td>\n",
              "      <td>-2.218459</td>\n",
              "    </tr>\n",
              "    <tr>\n",
              "      <th>548</th>\n",
              "      <td>Vander Blue</td>\n",
              "      <td>LAL</td>\n",
              "      <td>50000.0</td>\n",
              "      <td>10.819798</td>\n",
              "      <td>-2.218459</td>\n",
              "    </tr>\n",
              "    <tr>\n",
              "      <th>549</th>\n",
              "      <td>V.J. Beachem</td>\n",
              "      <td>LAL</td>\n",
              "      <td>50000.0</td>\n",
              "      <td>10.819798</td>\n",
              "      <td>-2.218459</td>\n",
              "    </tr>\n",
              "    <tr>\n",
              "      <th>550</th>\n",
              "      <td>Briante Weber</td>\n",
              "      <td>LAL</td>\n",
              "      <td>50000.0</td>\n",
              "      <td>10.819798</td>\n",
              "      <td>-2.218459</td>\n",
              "    </tr>\n",
              "    <tr>\n",
              "      <th>551</th>\n",
              "      <td>Jamil Wilson</td>\n",
              "      <td>LAC</td>\n",
              "      <td>50000.0</td>\n",
              "      <td>10.819798</td>\n",
              "      <td>-2.218459</td>\n",
              "    </tr>\n",
              "    <tr>\n",
              "      <th>552</th>\n",
              "      <td>Briante Weber</td>\n",
              "      <td>HOU</td>\n",
              "      <td>50000.0</td>\n",
              "      <td>10.819798</td>\n",
              "      <td>-2.218459</td>\n",
              "    </tr>\n",
              "    <tr>\n",
              "      <th>553</th>\n",
              "      <td>Luis Montero</td>\n",
              "      <td>DET</td>\n",
              "      <td>50000.0</td>\n",
              "      <td>10.819798</td>\n",
              "      <td>-2.218459</td>\n",
              "    </tr>\n",
              "    <tr>\n",
              "      <th>554</th>\n",
              "      <td>Gian Clavell</td>\n",
              "      <td>DAL</td>\n",
              "      <td>50000.0</td>\n",
              "      <td>10.819798</td>\n",
              "      <td>-2.218459</td>\n",
              "    </tr>\n",
              "    <tr>\n",
              "      <th>555</th>\n",
              "      <td>Antonius Cleveland</td>\n",
              "      <td>DAL</td>\n",
              "      <td>50000.0</td>\n",
              "      <td>10.819798</td>\n",
              "      <td>-2.218459</td>\n",
              "    </tr>\n",
              "    <tr>\n",
              "      <th>556</th>\n",
              "      <td>Diamond Stone</td>\n",
              "      <td>CHI</td>\n",
              "      <td>50000.0</td>\n",
              "      <td>10.819798</td>\n",
              "      <td>-2.218459</td>\n",
              "    </tr>\n",
              "    <tr>\n",
              "      <th>557</th>\n",
              "      <td>Yakuba Ouattara</td>\n",
              "      <td>BRK</td>\n",
              "      <td>50000.0</td>\n",
              "      <td>10.819798</td>\n",
              "      <td>-2.218459</td>\n",
              "    </tr>\n",
              "    <tr>\n",
              "      <th>558</th>\n",
              "      <td>Jeremy Evans</td>\n",
              "      <td>ATL</td>\n",
              "      <td>50000.0</td>\n",
              "      <td>10.819798</td>\n",
              "      <td>-2.218459</td>\n",
              "    </tr>\n",
              "    <tr>\n",
              "      <th>559</th>\n",
              "      <td>Nigel Hayes</td>\n",
              "      <td>LAL</td>\n",
              "      <td>46080.0</td>\n",
              "      <td>10.738156</td>\n",
              "      <td>-2.266070</td>\n",
              "    </tr>\n",
              "    <tr>\n",
              "      <th>560</th>\n",
              "      <td>Nigel Hayes</td>\n",
              "      <td>TOR</td>\n",
              "      <td>46080.0</td>\n",
              "      <td>10.738156</td>\n",
              "      <td>-2.266070</td>\n",
              "    </tr>\n",
              "    <tr>\n",
              "      <th>561</th>\n",
              "      <td>Rodney Purvis</td>\n",
              "      <td>ORL</td>\n",
              "      <td>46080.0</td>\n",
              "      <td>10.738156</td>\n",
              "      <td>-2.266070</td>\n",
              "    </tr>\n",
              "    <tr>\n",
              "      <th>562</th>\n",
              "      <td>Xavier Rathan-Mayes</td>\n",
              "      <td>MEM</td>\n",
              "      <td>46080.0</td>\n",
              "      <td>10.738156</td>\n",
              "      <td>-2.266070</td>\n",
              "    </tr>\n",
              "    <tr>\n",
              "      <th>563</th>\n",
              "      <td>Trey McKinney-Jones</td>\n",
              "      <td>IND</td>\n",
              "      <td>46080.0</td>\n",
              "      <td>10.738156</td>\n",
              "      <td>-2.266070</td>\n",
              "    </tr>\n",
              "    <tr>\n",
              "      <th>564</th>\n",
              "      <td>Jameel Warney</td>\n",
              "      <td>DAL</td>\n",
              "      <td>46080.0</td>\n",
              "      <td>10.738156</td>\n",
              "      <td>-2.266070</td>\n",
              "    </tr>\n",
              "    <tr>\n",
              "      <th>565</th>\n",
              "      <td>Marcus Thornton</td>\n",
              "      <td>CLE</td>\n",
              "      <td>46080.0</td>\n",
              "      <td>10.738156</td>\n",
              "      <td>-2.266070</td>\n",
              "    </tr>\n",
              "    <tr>\n",
              "      <th>566</th>\n",
              "      <td>DeAndre Liggins</td>\n",
              "      <td>ATL</td>\n",
              "      <td>26773.0</td>\n",
              "      <td>10.195187</td>\n",
              "      <td>-2.582709</td>\n",
              "    </tr>\n",
              "    <tr>\n",
              "      <th>567</th>\n",
              "      <td>Axel Toupane</td>\n",
              "      <td>NOP</td>\n",
              "      <td>25000.0</td>\n",
              "      <td>10.126671</td>\n",
              "      <td>-2.622664</td>\n",
              "    </tr>\n",
              "    <tr>\n",
              "      <th>568</th>\n",
              "      <td>Quinn Cook</td>\n",
              "      <td>NOP</td>\n",
              "      <td>25000.0</td>\n",
              "      <td>10.126671</td>\n",
              "      <td>-2.622664</td>\n",
              "    </tr>\n",
              "    <tr>\n",
              "      <th>569</th>\n",
              "      <td>Chris Johnson</td>\n",
              "      <td>HOU</td>\n",
              "      <td>25000.0</td>\n",
              "      <td>10.126671</td>\n",
              "      <td>-2.622664</td>\n",
              "    </tr>\n",
              "    <tr>\n",
              "      <th>570</th>\n",
              "      <td>Beno Udrih</td>\n",
              "      <td>DET</td>\n",
              "      <td>25000.0</td>\n",
              "      <td>10.126671</td>\n",
              "      <td>-2.622664</td>\n",
              "    </tr>\n",
              "    <tr>\n",
              "      <th>571</th>\n",
              "      <td>Joel Bolomboy</td>\n",
              "      <td>MIL</td>\n",
              "      <td>22248.0</td>\n",
              "      <td>10.010052</td>\n",
              "      <td>-2.690672</td>\n",
              "    </tr>\n",
              "    <tr>\n",
              "      <th>572</th>\n",
              "      <td>Jarell Eddie</td>\n",
              "      <td>CHI</td>\n",
              "      <td>17224.0</td>\n",
              "      <td>9.754117</td>\n",
              "      <td>-2.839924</td>\n",
              "    </tr>\n",
              "  </tbody>\n",
              "</table>\n",
              "</div>"
            ],
            "text/plain": [
              "                   player team   salary  salary_log  norm_log_salary\n",
              "528     Demetrius Jackson  HOU  74159.0   11.213980        -1.988587\n",
              "529  Georgios Papagiannis  POR  74159.0   11.213980        -1.988587\n",
              "530            Larry Drew  NOP  74159.0   11.213980        -1.988587\n",
              "531         Scotty Hopson  DAL  74159.0   11.213980        -1.988587\n",
              "532         Isaiah Canaan  HOU  53465.0   10.886801        -2.179385\n",
              "533       Tyler Cavanaugh  ATL  50000.0   10.819798        -2.218459\n",
              "534     Kyle Collinsworth  DAL  50000.0   10.819798        -2.218459\n",
              "535     Demetrius Jackson  HOU  50000.0   10.819798        -2.218459\n",
              "536         Daniel Ochefu  WAS  50000.0   10.819798        -2.218459\n",
              "537         Michael Young  WAS  50000.0   10.819798        -2.218459\n",
              "538          Nate Wolters  UTA  50000.0   10.819798        -2.218459\n",
              "539       Naz Mitrou-Long  UTA  50000.0   10.819798        -2.218459\n",
              "540          Eric Griffin  UTA  50000.0   10.819798        -2.218459\n",
              "541          Jacob Pullen  PHI  50000.0   10.819798        -2.218459\n",
              "542  James Michael McAdoo  PHI  50000.0   10.819798        -2.218459\n",
              "543           Nigel Hayes  NYK  50000.0   10.819798        -2.218459\n",
              "544           Jalen Moore  MIL  50000.0   10.819798        -2.218459\n",
              "545           Gary Payton  MIL  50000.0   10.819798        -2.218459\n",
              "546         Matt Williams  MIA  50000.0   10.819798        -2.218459\n",
              "547          Vince Hunter  MEM  50000.0   10.819798        -2.218459\n",
              "548           Vander Blue  LAL  50000.0   10.819798        -2.218459\n",
              "549          V.J. Beachem  LAL  50000.0   10.819798        -2.218459\n",
              "550         Briante Weber  LAL  50000.0   10.819798        -2.218459\n",
              "551          Jamil Wilson  LAC  50000.0   10.819798        -2.218459\n",
              "552         Briante Weber  HOU  50000.0   10.819798        -2.218459\n",
              "553          Luis Montero  DET  50000.0   10.819798        -2.218459\n",
              "554          Gian Clavell  DAL  50000.0   10.819798        -2.218459\n",
              "555    Antonius Cleveland  DAL  50000.0   10.819798        -2.218459\n",
              "556         Diamond Stone  CHI  50000.0   10.819798        -2.218459\n",
              "557       Yakuba Ouattara  BRK  50000.0   10.819798        -2.218459\n",
              "558          Jeremy Evans  ATL  50000.0   10.819798        -2.218459\n",
              "559           Nigel Hayes  LAL  46080.0   10.738156        -2.266070\n",
              "560           Nigel Hayes  TOR  46080.0   10.738156        -2.266070\n",
              "561         Rodney Purvis  ORL  46080.0   10.738156        -2.266070\n",
              "562   Xavier Rathan-Mayes  MEM  46080.0   10.738156        -2.266070\n",
              "563   Trey McKinney-Jones  IND  46080.0   10.738156        -2.266070\n",
              "564         Jameel Warney  DAL  46080.0   10.738156        -2.266070\n",
              "565       Marcus Thornton  CLE  46080.0   10.738156        -2.266070\n",
              "566       DeAndre Liggins  ATL  26773.0   10.195187        -2.582709\n",
              "567          Axel Toupane  NOP  25000.0   10.126671        -2.622664\n",
              "568            Quinn Cook  NOP  25000.0   10.126671        -2.622664\n",
              "569         Chris Johnson  HOU  25000.0   10.126671        -2.622664\n",
              "570            Beno Udrih  DET  25000.0   10.126671        -2.622664\n",
              "571         Joel Bolomboy  MIL  22248.0   10.010052        -2.690672\n",
              "572          Jarell Eddie  CHI  17224.0    9.754117        -2.839924"
            ]
          },
          "metadata": {
            "tags": []
          },
          "execution_count": 21
        }
      ]
    },
    {
      "cell_type": "code",
      "metadata": {
        "id": "fQ8K9cNbLkfq",
        "colab_type": "code",
        "outputId": "038e809c-a2fd-4d34-dd5d-f4933a1e8c70",
        "colab": {
          "base_uri": "https://localhost:8080/",
          "height": 355
        }
      },
      "source": [
        "team_index = df_lower['team'].value_counts()\n",
        "plt.figure(figsize=(12,5))\n",
        "sns.countplot(df_lower['team'],\n",
        "            order=team_index.index,\n",
        "            palette='Blues_r')"
      ],
      "execution_count": 0,
      "outputs": [
        {
          "output_type": "execute_result",
          "data": {
            "text/plain": [
              "<matplotlib.axes._subplots.AxesSubplot at 0x7f9c7db08240>"
            ]
          },
          "metadata": {
            "tags": []
          },
          "execution_count": 22
        },
        {
          "output_type": "display_data",
          "data": {
            "image/png": "[encoded data removed]",
            "text/plain": [
              "<Figure size 864x360 with 1 Axes>"
            ]
          },
          "metadata": {
            "tags": []
          }
        }
      ]
    },
    {
      "cell_type": "code",
      "metadata": {
        "id": "ECxoR-G2OwcZ",
        "colab_type": "code",
        "outputId": "70f90791-2269-41a5-b76e-c52952338f94",
        "colab": {
          "base_uri": "https://localhost:8080/",
          "height": 35
        }
      },
      "source": [
        "df.shape #找dataset列數\n",
        "#len(df)#同上"
      ],
      "execution_count": 0,
      "outputs": [
        {
          "output_type": "execute_result",
          "data": {
            "text/plain": [
              "(573, 5)"
            ]
          },
          "metadata": {
            "tags": []
          },
          "execution_count": 23
        }
      ]
    },
    {
      "cell_type": "code",
      "metadata": {
        "id": "dox1qf-lRn16",
        "colab_type": "code",
        "outputId": "9ff83c1f-d28e-4c5a-c041-af19dcb07da9",
        "colab": {
          "base_uri": "https://localhost:8080/",
          "height": 35
        }
      },
      "source": [
        "df_lower.shape"
      ],
      "execution_count": 0,
      "outputs": [
        {
          "output_type": "execute_result",
          "data": {
            "text/plain": [
              "(45, 5)"
            ]
          },
          "metadata": {
            "tags": []
          },
          "execution_count": 24
        }
      ]
    },
    {
      "cell_type": "code",
      "metadata": {
        "id": "RegNZ1yGMICf",
        "colab_type": "code",
        "outputId": "4b0ee2a2-c2ce-4f41-ed65-45723713f0bb",
        "colab": {
          "base_uri": "https://localhost:8080/",
          "height": 70
        }
      },
      "source": [
        "print(f\"\"\"Players with a lower salary than the average: \n",
        "Total - {df_lower.shape[0]}\n",
        "Rate - {df_lower.shape[0] / df.shape[0] * 100:.2f}%\"\"\")"
      ],
      "execution_count": 0,
      "outputs": [
        {
          "output_type": "stream",
          "text": [
            "Players with a lower salary than the average: \n",
            "Total - 45\n",
            "Rate - 7.85%\n"
          ],
          "name": "stdout"
        }
      ]
    },
    {
      "cell_type": "code",
      "metadata": {
        "id": "1Hx7LrJGPNgN",
        "colab_type": "code",
        "outputId": "c55c0cc7-dd83-4e0e-f7d5-c1587de880b3",
        "colab": {
          "base_uri": "https://localhost:8080/",
          "height": 47
        }
      },
      "source": [
        "df_higher = df[df['norm_log_salary'] > z_score_sup]\n",
        "df_higher"
      ],
      "execution_count": 0,
      "outputs": [
        {
          "output_type": "execute_result",
          "data": {
            "text/html": [
              "<div>\n",
              "<style scoped>\n",
              "    .dataframe tbody tr th:only-of-type {\n",
              "        vertical-align: middle;\n",
              "    }\n",
              "\n",
              "    .dataframe tbody tr th {\n",
              "        vertical-align: top;\n",
              "    }\n",
              "\n",
              "    .dataframe thead th {\n",
              "        text-align: right;\n",
              "    }\n",
              "</style>\n",
              "<table border=\"1\" class=\"dataframe\">\n",
              "  <thead>\n",
              "    <tr style=\"text-align: right;\">\n",
              "      <th></th>\n",
              "      <th>player</th>\n",
              "      <th>team</th>\n",
              "      <th>salary</th>\n",
              "      <th>salary_log</th>\n",
              "      <th>norm_log_salary</th>\n",
              "    </tr>\n",
              "  </thead>\n",
              "  <tbody>\n",
              "  </tbody>\n",
              "</table>\n",
              "</div>"
            ],
            "text/plain": [
              "Empty DataFrame\n",
              "Columns: [player, team, salary, salary_log, norm_log_salary]\n",
              "Index: []"
            ]
          },
          "metadata": {
            "tags": []
          },
          "execution_count": 26
        }
      ]
    },
    {
      "cell_type": "code",
      "metadata": {
        "id": "goD224IoPerz",
        "colab_type": "code",
        "outputId": "11cea5d8-18f7-4387-f50e-e1daa39a8866",
        "colab": {
          "base_uri": "https://localhost:8080/",
          "height": 70
        }
      },
      "source": [
        "print(f\"\"\"Players with a higher salary than the average: \n",
        "Total - {df_higher.shape[0]}\n",
        "Rate - {df_higher.shape[0] / df.shape[0] * 100:.2f}%\"\"\")"
      ],
      "execution_count": 0,
      "outputs": [
        {
          "output_type": "stream",
          "text": [
            "Players with a higher salary than the average: \n",
            "Total - 0\n",
            "Rate - 0.00%\n"
          ],
          "name": "stdout"
        }
      ]
    },
    {
      "cell_type": "code",
      "metadata": {
        "id": "WB2umYibPww9",
        "colab_type": "code",
        "outputId": "a317cef3-4b6b-48ee-e263-9599f06566cc",
        "colab": {
          "base_uri": "https://localhost:8080/",
          "height": 70
        }
      },
      "source": [
        "p_value = st.norm(norm_mean, norm_std).sf(df['norm_log_salary'].max())\n",
        "alpha = 1 - p_value\n",
        "print(f'P-value: {p_value:.3f}\\nAlpha Max: {alpha:.3f}\\nWe can confirm that the highest salary is on the distribution!')\n",
        "#最高薪水存在在95%信心水準區間內"
      ],
      "execution_count": 0,
      "outputs": [
        {
          "output_type": "stream",
          "text": [
            "P-value: 0.055\n",
            "Alpha Max: 0.945\n",
            "We can confirm that the highest salary is on the distribution!\n"
          ],
          "name": "stdout"
        }
      ]
    }
  ]
}