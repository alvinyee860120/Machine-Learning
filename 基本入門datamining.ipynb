{
  "nbformat": 4,
  "nbformat_minor": 0,
  "metadata": {
    "colab": {
      "name": "基本入門datamining.ipynb",
      "version": "0.3.2",
      "provenance": [],
      "collapsed_sections": []
    },
    "kernelspec": {
      "name": "python3",
      "display_name": "Python 3"
    }
  },
  "cells": [
    {
      "cell_type": "code",
      "metadata": {
        "id": "q3BGAdgy2OJB",
        "colab_type": "code",
        "colab": {}
      },
      "source": [
        "import pandas as pd\n",
        "import numpy as np\n",
        "#import matplotlib as ma\n",
        "import scipy as sc\n",
        "import matplotlib.pyplot as plt\n",
        "import seaborn as sns"
      ],
      "execution_count": 0,
      "outputs": []
    },
    {
      "cell_type": "code",
      "metadata": {
        "id": "so2IGEZdqLbo",
        "colab_type": "code",
        "outputId": "c4e28d71-1be7-421d-a191-d32213c6f965",
        "colab": {
          "base_uri": "https://localhost:8080/",
          "height": 70
        }
      },
      "source": [
        "\n",
        "t1 = 10, 20\n",
        "# it can hold different types of data\n",
        "t2 = 10, 'hello world'\n",
        "\n",
        "print(type(t1))\n",
        "print(t1)\n",
        "print(t2)"
      ],
      "execution_count": 0,
      "outputs": [
        {
          "output_type": "stream",
          "text": [
            "<class 'tuple'>\n",
            "(10, 20)\n",
            "(10, 'hello world')\n"
          ],
          "name": "stdout"
        }
      ]
    },
    {
      "cell_type": "code",
      "metadata": {
        "id": "Na34Hd3E2Y-m",
        "colab_type": "code",
        "outputId": "dd169623-fcde-4e2c-9c07-40fe6f2cf0fd",
        "colab": {
          "base_uri": "https://localhost:8080/",
          "height": 70
        }
      },
      "source": [
        "r1 = range(10)\n",
        "r2 = range(5, 50, 5)\n",
        "\n",
        "print(type(r1))\n",
        "print(r1)\n",
        "print(r2)"
      ],
      "execution_count": 0,
      "outputs": [
        {
          "output_type": "stream",
          "text": [
            "<class 'range'>\n",
            "range(0, 10)\n",
            "range(5, 50, 5)\n"
          ],
          "name": "stdout"
        }
      ]
    },
    {
      "cell_type": "code",
      "metadata": {
        "id": "2aJhLMMs2b5b",
        "colab_type": "code",
        "outputId": "44910282-a892-44c9-e089-1f731a2f2769",
        "colab": {
          "base_uri": "https://localhost:8080/",
          "height": 88
        }
      },
      "source": [
        "str1 = 'hello python'\n",
        "str2 = str1\n",
        "# str2[0] = 'y'\n",
        "# a = a + b could be written as a += b\n",
        "str2 += ' journey'\n",
        "print(str2 is str1)\n",
        "\n",
        "print(str1)\n",
        "result = str2.split(' ')\n",
        "print(result)\n",
        "result_back = '***'.join(result)\n",
        "print(result_back)"
      ],
      "execution_count": 0,
      "outputs": [
        {
          "output_type": "stream",
          "text": [
            "False\n",
            "hello python\n",
            "['hello', 'python', 'journey']\n",
            "hello***python***journey\n"
          ],
          "name": "stdout"
        }
      ]
    },
    {
      "cell_type": "code",
      "metadata": {
        "id": "88T5ls9Y2eHS",
        "colab_type": "code",
        "outputId": "8d496720-35df-4a44-c400-93c97fefaafe",
        "colab": {
          "base_uri": "https://localhost:8080/",
          "height": 141
        }
      },
      "source": [
        "str1 = 'hello world'\n",
        "arr1 = [1, 2, 3, 4, 5, 6, 7, 8, 9, 10]\n",
        "# mind the stop\n",
        "arr2 = arr1[0:5]\n",
        "# -1 represent the last element\n",
        "arr3 = arr1[0:-1:2]\n",
        "# you can ignore the args...\n",
        "arr4 = arr1[:]\n",
        "print(arr1)\n",
        "print(arr2)\n",
        "print(arr3)\n",
        "print(arr4)\n",
        "print(arr4 is arr1)\n",
        "print(str1[5:])\n",
        "print(arr1[:-1])"
      ],
      "execution_count": 0,
      "outputs": [
        {
          "output_type": "stream",
          "text": [
            "[1, 2, 3, 4, 5, 6, 7, 8, 9, 10]\n",
            "[1, 2, 3, 4, 5]\n",
            "[1, 3, 5, 7, 9]\n",
            "[1, 2, 3, 4, 5, 6, 7, 8, 9, 10]\n",
            "False\n",
            " world\n",
            "[1, 2, 3, 4, 5, 6, 7, 8, 9]\n"
          ],
          "name": "stdout"
        }
      ]
    },
    {
      "cell_type": "code",
      "metadata": {
        "id": "EDIYR-HJ2hJX",
        "colab_type": "code",
        "outputId": "7e35b46f-9ace-40e6-8481-e3bc948f3bf5",
        "colab": {
          "base_uri": "https://localhost:8080/",
          "height": 852
        }
      },
      "source": [
        "arr1 = [2, 4, 6, 8, 10]\n",
        "str1 = 'hello python'\n",
        "\n",
        "for i in range(10):\n",
        "    print(i)\n",
        "print('***\\n')\n",
        "\n",
        "for i in range(len(arr1)):\n",
        "    print(arr1[i])\n",
        "print('***\\n')\n",
        "\n",
        "for i in arr1:\n",
        "    print(i)\n",
        "print('***\\n')\n",
        "\n",
        "for i in str1:\n",
        "    print(i)\n",
        "print('***\\n')\n",
        "\n",
        "for i in arr1:\n",
        "     i += 1\n",
        "     print(i)\n",
        "print('***\\n')"
      ],
      "execution_count": 0,
      "outputs": [
        {
          "output_type": "stream",
          "text": [
            "0\n",
            "1\n",
            "2\n",
            "3\n",
            "4\n",
            "5\n",
            "6\n",
            "7\n",
            "8\n",
            "9\n",
            "***\n",
            "\n",
            "2\n",
            "4\n",
            "6\n",
            "8\n",
            "10\n",
            "***\n",
            "\n",
            "2\n",
            "4\n",
            "6\n",
            "8\n",
            "10\n",
            "***\n",
            "\n",
            "h\n",
            "e\n",
            "l\n",
            "l\n",
            "o\n",
            " \n",
            "p\n",
            "y\n",
            "t\n",
            "h\n",
            "o\n",
            "n\n",
            "***\n",
            "\n",
            "3\n",
            "5\n",
            "7\n",
            "9\n",
            "11\n",
            "***\n",
            "\n"
          ],
          "name": "stdout"
        }
      ]
    },
    {
      "cell_type": "code",
      "metadata": {
        "id": "bwiOyCAg2rDv",
        "colab_type": "code",
        "outputId": "5c35ab95-f9a8-4756-f9d7-059657108ed7",
        "colab": {
          "base_uri": "https://localhost:8080/",
          "height": 35
        }
      },
      "source": [
        "arr1 = []\n",
        "\n",
        "for i in range(10):\n",
        "    arr1.append(i)\n",
        "\n",
        "print(arr1)"
      ],
      "execution_count": 0,
      "outputs": [
        {
          "output_type": "stream",
          "text": [
            "[0, 1, 2, 3, 4, 5, 6, 7, 8, 9]\n"
          ],
          "name": "stdout"
        }
      ]
    },
    {
      "cell_type": "code",
      "metadata": {
        "id": "VpNVi-_P2tIU",
        "colab_type": "code",
        "outputId": "21b264f6-71f7-43ad-8a6d-8c47f848e3a9",
        "colab": {
          "base_uri": "https://localhost:8080/",
          "height": 35
        }
      },
      "source": [
        "# in-place construction\n",
        "arr1 = [i for i in range(10)]\n",
        "\n",
        "print(arr1)"
      ],
      "execution_count": 0,
      "outputs": [
        {
          "output_type": "stream",
          "text": [
            "[0, 1, 2, 3, 4, 5, 6, 7, 8, 9]\n"
          ],
          "name": "stdout"
        }
      ]
    },
    {
      "cell_type": "code",
      "metadata": {
        "id": "ZtTI20vC2vKj",
        "colab_type": "code",
        "outputId": "5316c330-3d14-4de8-d51a-bc371635af74",
        "colab": {
          "base_uri": "https://localhost:8080/",
          "height": 88
        }
      },
      "source": [
        "# in-place construction\n",
        "arr1 = [i for i in range(10)]\n",
        "\n",
        "# you can use if to filter the elements\n",
        "arr2 = [x for x in arr1 if x % 2 == 0]\n",
        "\n",
        "# you can use as many conditions as you want!\n",
        "arr3 = [x for x in arr1 if x >= 3 and x % 2]\n",
        "\n",
        "# use nested for loops to make everyone dizzy XD\n",
        "arr4 = [(x, y) for x in range(3) for y in range(4)]\n",
        "\n",
        "print(arr1)\n",
        "print(arr2)\n",
        "print(arr3)\n",
        "print(arr4)"
      ],
      "execution_count": 0,
      "outputs": [
        {
          "output_type": "stream",
          "text": [
            "[0, 1, 2, 3, 4, 5, 6, 7, 8, 9]\n",
            "[0, 2, 4, 6, 8]\n",
            "[3, 5, 7, 9]\n",
            "[(0, 0), (0, 1), (0, 2), (0, 3), (1, 0), (1, 1), (1, 2), (1, 3), (2, 0), (2, 1), (2, 2), (2, 3)]\n"
          ],
          "name": "stdout"
        }
      ]
    },
    {
      "cell_type": "code",
      "metadata": {
        "id": "9IgGfXLp2x4v",
        "colab_type": "code",
        "outputId": "15520304-0138-4dc7-ba24-c2c232998918",
        "colab": {
          "base_uri": "https://localhost:8080/",
          "height": 52
        }
      },
      "source": [
        "import time\n",
        "\n",
        "arr1 = []\n",
        "s = time.time()\n",
        "for i in range(int(1e+6)):\n",
        "    arr1.append(i)\n",
        "print('took {} secs'.format(round(time.time() - s, 3)))\n",
        "\n",
        "s = time.time()\n",
        "arr2 = [i for i in range(int(1e+6))]\n",
        "print('took {} secs'.format(round(time.time() - s, 3)))"
      ],
      "execution_count": 0,
      "outputs": [
        {
          "output_type": "stream",
          "text": [
            "took 0.197 secs\n",
            "took 0.094 secs\n"
          ],
          "name": "stdout"
        }
      ]
    },
    {
      "cell_type": "code",
      "metadata": {
        "id": "P-su-lSX20fY",
        "colab_type": "code",
        "outputId": "18b882eb-9481-41d0-c87b-c9e675b27c84",
        "colab": {
          "base_uri": "https://localhost:8080/",
          "height": 106
        }
      },
      "source": [
        "comp = (i for i in range(10))\n",
        "print(comp)\n",
        "print(type(comp))\n",
        "\n",
        "arr1 = list(comp)\n",
        "arr2 = list(comp)\n",
        "arr3 = [comp]\n",
        "print(arr1)\n",
        "print(arr2)\n",
        "print(arr3)"
      ],
      "execution_count": 0,
      "outputs": [
        {
          "output_type": "stream",
          "text": [
            "<generator object <genexpr> at 0x7fbb2d135b48>\n",
            "<class 'generator'>\n",
            "[0, 1, 2, 3, 4, 5, 6, 7, 8, 9]\n",
            "[]\n",
            "[<generator object <genexpr> at 0x7fbb2d135b48>]\n"
          ],
          "name": "stdout"
        }
      ]
    },
    {
      "cell_type": "code",
      "metadata": {
        "id": "A8YWfov923t7",
        "colab_type": "code",
        "outputId": "d5cfecff-d4af-461c-ce63-3fb3404eb33b",
        "colab": {
          "base_uri": "https://localhost:8080/",
          "height": 266
        }
      },
      "source": [
        "arr1 = [i for i in range(1,21) if i % 2 == 1]\n",
        "arr2 = [i for i in range(1,21) if i % 2 == 0]\n",
        "print(arr1)\n",
        "print(arr2)\n",
        "\n",
        "arr3 = [i for i in range(1,21,2)]\n",
        "arr4 = [i for i in range(2,21,2)]\n",
        "print(arr3)\n",
        "print(arr4)\n",
        "\n",
        "for i in range(len(arr1)):\n",
        "    print(arr1[i], '<--->', arr2[i])"
      ],
      "execution_count": 0,
      "outputs": [
        {
          "output_type": "stream",
          "text": [
            "[1, 3, 5, 7, 9, 11, 13, 15, 17, 19]\n",
            "[2, 4, 6, 8, 10, 12, 14, 16, 18, 20]\n",
            "[1, 3, 5, 7, 9, 11, 13, 15, 17, 19]\n",
            "[2, 4, 6, 8, 10, 12, 14, 16, 18, 20]\n",
            "1 <---> 2\n",
            "3 <---> 4\n",
            "5 <---> 6\n",
            "7 <---> 8\n",
            "9 <---> 10\n",
            "11 <---> 12\n",
            "13 <---> 14\n",
            "15 <---> 16\n",
            "17 <---> 18\n",
            "19 <---> 20\n"
          ],
          "name": "stdout"
        }
      ]
    },
    {
      "cell_type": "code",
      "metadata": {
        "id": "x1PUtkQD2916",
        "colab_type": "code",
        "outputId": "9f2a42ec-1333-449e-fbbd-91c92bd5b145",
        "colab": {
          "base_uri": "https://localhost:8080/",
          "height": 408
        }
      },
      "source": [
        "arr1 = [i for i in range(10)]\n",
        "arr2 = [i for i in range(5, 15)]\n",
        "\n",
        "for t in zip(arr1, arr2):\n",
        "    print(t[0], t[1])\n",
        "print('*' * 10)\n",
        "\n",
        "for i, j in zip(arr1, arr2):\n",
        "    print(i, j, sep = ' <---> ')\n",
        "print('*' * 10)"
      ],
      "execution_count": 0,
      "outputs": [
        {
          "output_type": "stream",
          "text": [
            "0 5\n",
            "1 6\n",
            "2 7\n",
            "3 8\n",
            "4 9\n",
            "5 10\n",
            "6 11\n",
            "7 12\n",
            "8 13\n",
            "9 14\n",
            "**********\n",
            "0 <---> 5\n",
            "1 <---> 6\n",
            "2 <---> 7\n",
            "3 <---> 8\n",
            "4 <---> 9\n",
            "5 <---> 10\n",
            "6 <---> 11\n",
            "7 <---> 12\n",
            "8 <---> 13\n",
            "9 <---> 14\n",
            "**********\n"
          ],
          "name": "stdout"
        }
      ]
    },
    {
      "cell_type": "code",
      "metadata": {
        "id": "f1PURb8n3FSe",
        "colab_type": "code",
        "colab": {}
      },
      "source": [
        ""
      ],
      "execution_count": 0,
      "outputs": []
    },
    {
      "cell_type": "code",
      "metadata": {
        "id": "wZgmvN5i3gd8",
        "colab_type": "code",
        "colab": {}
      },
      "source": [
        "my_obj = pd.Series([4, 7, -5, 3])"
      ],
      "execution_count": 0,
      "outputs": []
    },
    {
      "cell_type": "code",
      "metadata": {
        "id": "0s9ocKyL3mqJ",
        "colab_type": "code",
        "outputId": "c5211952-02d9-4185-d5b1-9f29d1a44719",
        "colab": {
          "base_uri": "https://localhost:8080/",
          "height": 52
        }
      },
      "source": [
        "print(my_obj.values)\n",
        "print(my_obj.index)"
      ],
      "execution_count": 0,
      "outputs": [
        {
          "output_type": "stream",
          "text": [
            "[ 4  7 -5  3]\n",
            "RangeIndex(start=0, stop=4, step=1)\n"
          ],
          "name": "stdout"
        }
      ]
    },
    {
      "cell_type": "code",
      "metadata": {
        "id": "W1uLdNGS35YK",
        "colab_type": "code",
        "outputId": "1ee311d4-abaa-4e77-d4da-799d5200c51a",
        "colab": {
          "base_uri": "https://localhost:8080/",
          "height": 70
        }
      },
      "source": [
        "my_obj2 = pd.Series([8,9,10,11], index=['a','b','c','d'])\n",
        "print(my_obj2.values)\n",
        "print(my_obj2.index)\n",
        "#my_obj2['a'] 找8\n",
        "'a' in my_obj2 #確認8是否在裏頭"
      ],
      "execution_count": 0,
      "outputs": [
        {
          "output_type": "stream",
          "text": [
            "[ 8  9 10 11]\n",
            "Index(['a', 'b', 'c', 'd'], dtype='object')\n"
          ],
          "name": "stdout"
        },
        {
          "output_type": "execute_result",
          "data": {
            "text/plain": [
              "True"
            ]
          },
          "metadata": {
            "tags": []
          },
          "execution_count": 370
        }
      ]
    },
    {
      "cell_type": "code",
      "metadata": {
        "id": "Y5VPmUaF4XiH",
        "colab_type": "code",
        "outputId": "479ce653-4f68-47a3-8bd5-42455c5a2643",
        "colab": {
          "base_uri": "https://localhost:8080/",
          "height": 88
        }
      },
      "source": [
        "dic_data = {'name':'apple','birthday':'1996-1-1','luckynumber':7 }\n",
        "my_obj3 = pd.Series(dic_data)\n",
        "my_obj3"
      ],
      "execution_count": 0,
      "outputs": [
        {
          "output_type": "execute_result",
          "data": {
            "text/plain": [
              "name              apple\n",
              "birthday       1996-1-1\n",
              "luckynumber           7\n",
              "dtype: object"
            ]
          },
          "metadata": {
            "tags": []
          },
          "execution_count": 371
        }
      ]
    },
    {
      "cell_type": "code",
      "metadata": {
        "id": "uf2Kngcl4ulJ",
        "colab_type": "code",
        "outputId": "2a15e6c5-26e8-4756-c9da-23c48e0beca4",
        "colab": {
          "base_uri": "https://localhost:8080/",
          "height": 124
        }
      },
      "source": [
        "registration = [True,False,True,True]\n",
        "registration = pd.Series(registration)\n",
        "print(registration.index)\n",
        "registration"
      ],
      "execution_count": 0,
      "outputs": [
        {
          "output_type": "stream",
          "text": [
            "RangeIndex(start=0, stop=4, step=1)\n"
          ],
          "name": "stdout"
        },
        {
          "output_type": "execute_result",
          "data": {
            "text/plain": [
              "0     True\n",
              "1    False\n",
              "2     True\n",
              "3     True\n",
              "dtype: bool"
            ]
          },
          "metadata": {
            "tags": []
          },
          "execution_count": 372
        }
      ]
    },
    {
      "cell_type": "code",
      "metadata": {
        "id": "-qac4b-r46yi",
        "colab_type": "code",
        "outputId": "267e4685-d223-4089-847a-0e8cf02845ba",
        "colab": {
          "base_uri": "https://localhost:8080/",
          "height": 88
        }
      },
      "source": [
        "dictionary = {'A':'an animal',\n",
        "              'B':'a color',\n",
        "              'C':'a fruit'}\n",
        "dictionary = pd.Series(dictionary)\n",
        "dictionary"
      ],
      "execution_count": 0,
      "outputs": [
        {
          "output_type": "execute_result",
          "data": {
            "text/plain": [
              "A    an animal\n",
              "B      a color\n",
              "C      a fruit\n",
              "dtype: object"
            ]
          },
          "metadata": {
            "tags": []
          },
          "execution_count": 373
        }
      ]
    },
    {
      "cell_type": "code",
      "metadata": {
        "id": "fSB0cWL95CLZ",
        "colab_type": "code",
        "outputId": "e335bcad-b678-45f8-e576-78bafe66baac",
        "colab": {
          "base_uri": "https://localhost:8080/",
          "height": 194
        }
      },
      "source": [
        "data = {'year': [1996, 1997, 1997, 1996, 1997],\n",
        "        'month': [8, 8, 7, 1, 12],\n",
        "        'day':[11,23,8,3,11],\n",
        "       'name': ['Bob', 'Nancy','Amy','Elsa','Jack']}\n",
        "myframe = pd.DataFrame(data)\n",
        "myframe\n",
        "\n",
        "myframe2 = pd.DataFrame(data,columns=['name','year', 'month', 'day'])\n",
        "myframe2\n",
        "\n",
        "myframe3 = pd.DataFrame(data,columns=['name','year', 'month', 'day','luckynumber'])\n",
        "luckynumber = ['3','2','1','7','8']\n",
        "luckynumber = pd.Series(luckynumber)\n",
        "myframe3['luckynumber'] = luckynumber\n",
        "myframe3"
      ],
      "execution_count": 0,
      "outputs": [
        {
          "output_type": "execute_result",
          "data": {
            "text/html": [
              "<div>\n",
              "<style scoped>\n",
              "    .dataframe tbody tr th:only-of-type {\n",
              "        vertical-align: middle;\n",
              "    }\n",
              "\n",
              "    .dataframe tbody tr th {\n",
              "        vertical-align: top;\n",
              "    }\n",
              "\n",
              "    .dataframe thead th {\n",
              "        text-align: right;\n",
              "    }\n",
              "</style>\n",
              "<table border=\"1\" class=\"dataframe\">\n",
              "  <thead>\n",
              "    <tr style=\"text-align: right;\">\n",
              "      <th></th>\n",
              "      <th>name</th>\n",
              "      <th>year</th>\n",
              "      <th>month</th>\n",
              "      <th>day</th>\n",
              "      <th>luckynumber</th>\n",
              "    </tr>\n",
              "  </thead>\n",
              "  <tbody>\n",
              "    <tr>\n",
              "      <th>0</th>\n",
              "      <td>Bob</td>\n",
              "      <td>1996</td>\n",
              "      <td>8</td>\n",
              "      <td>11</td>\n",
              "      <td>3</td>\n",
              "    </tr>\n",
              "    <tr>\n",
              "      <th>1</th>\n",
              "      <td>Nancy</td>\n",
              "      <td>1997</td>\n",
              "      <td>8</td>\n",
              "      <td>23</td>\n",
              "      <td>2</td>\n",
              "    </tr>\n",
              "    <tr>\n",
              "      <th>2</th>\n",
              "      <td>Amy</td>\n",
              "      <td>1997</td>\n",
              "      <td>7</td>\n",
              "      <td>8</td>\n",
              "      <td>1</td>\n",
              "    </tr>\n",
              "    <tr>\n",
              "      <th>3</th>\n",
              "      <td>Elsa</td>\n",
              "      <td>1996</td>\n",
              "      <td>1</td>\n",
              "      <td>3</td>\n",
              "      <td>7</td>\n",
              "    </tr>\n",
              "    <tr>\n",
              "      <th>4</th>\n",
              "      <td>Jack</td>\n",
              "      <td>1997</td>\n",
              "      <td>12</td>\n",
              "      <td>11</td>\n",
              "      <td>8</td>\n",
              "    </tr>\n",
              "  </tbody>\n",
              "</table>\n",
              "</div>"
            ],
            "text/plain": [
              "    name  year  month  day luckynumber\n",
              "0    Bob  1996      8   11           3\n",
              "1  Nancy  1997      8   23           2\n",
              "2    Amy  1997      7    8           1\n",
              "3   Elsa  1996      1    3           7\n",
              "4   Jack  1997     12   11           8"
            ]
          },
          "metadata": {
            "tags": []
          },
          "execution_count": 374
        }
      ]
    },
    {
      "cell_type": "code",
      "metadata": {
        "id": "Sy4BMRrz7L_k",
        "colab_type": "code",
        "outputId": "8662ae39-ec0a-4cd6-f24d-f4026fb7363f",
        "colab": {
          "resources": {
            "http://localhost:8080/nbextensions/google.colab/files.js": {
              "data": "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",
              "ok": true,
              "headers": [
                [
                  "content-type",
                  "application/javascript"
                ]
              ],
              "status": 200,
              "status_text": ""
            }
          },
          "base_uri": "https://localhost:8080/",
          "height": 76
        }
      },
      "source": [
        "from google.colab import files\n",
        "uploaded = files.upload()\n",
        "import io\n",
        "df = pd.read_csv(io.BytesIO(uploaded['NBA_season1718_salary.csv']))"
      ],
      "execution_count": 0,
      "outputs": [
        {
          "output_type": "display_data",
          "data": {
            "text/html": [
              "\n",
              "     <input type=\"file\" id=\"files-48383a98-1eac-44df-ad74-6634e90a8395\" name=\"files[]\" multiple disabled />\n",
              "     <output id=\"result-48383a98-1eac-44df-ad74-6634e90a8395\">\n",
              "      Upload widget is only available when the cell has been executed in the\n",
              "      current browser session. Please rerun this cell to enable.\n",
              "      </output>\n",
              "      <script src=\"/nbextensions/google.colab/files.js\"></script> "
            ],
            "text/plain": [
              "<IPython.core.display.HTML object>"
            ]
          },
          "metadata": {
            "tags": []
          }
        },
        {
          "output_type": "stream",
          "text": [
            "Saving NBA_season1718_salary.csv to NBA_season1718_salary (3).csv\n"
          ],
          "name": "stdout"
        }
      ]
    },
    {
      "cell_type": "code",
      "metadata": {
        "id": "e9A5NePUm0hx",
        "colab_type": "code",
        "colab": {}
      },
      "source": [
        "df = pd.read_csv('NBA_season1718_salary.csv')"
      ],
      "execution_count": 0,
      "outputs": []
    },
    {
      "cell_type": "code",
      "metadata": {
        "id": "s4skcQIU8tRM",
        "colab_type": "code",
        "colab": {}
      },
      "source": [
        "#df.insert(3,column=\"sport\",value=\"Basketball\")\n",
        "df.dropna()\n",
        "df = df.dropna()\n",
        "df.columns = ['cod', 'player', 'team', 'salary']\n",
        "del df['cod']\n",
        "df.head()\n",
        "\n",
        "#df.drop(labels=['team','salary'], axis=\"columns\")\n",
        "#axis=1跟axis=\"columns\"是一樣的！axis=0則是和asxis = \"row\"一樣。"
      ],
      "execution_count": 0,
      "outputs": []
    },
    {
      "cell_type": "code",
      "metadata": {
        "id": "c6JxuH8ATUF6",
        "colab_type": "code",
        "colab": {}
      },
      "source": [
        "df.sort_values('salary',ascending= False)"
      ],
      "execution_count": 0,
      "outputs": []
    },
    {
      "cell_type": "code",
      "metadata": {
        "id": "IkPCkPh7UKIS",
        "colab_type": "code",
        "colab": {}
      },
      "source": [
        "df1 = pd.DataFrame(np.random.randn(4,2),index=['a', 'a', 'b', 'b']) #隨機產生2維矩陣(numpy為產生矩陣的套件)\n",
        "df1"
      ],
      "execution_count": 0,
      "outputs": []
    },
    {
      "cell_type": "code",
      "metadata": {
        "id": "atotUuLqkxuE",
        "colab_type": "code",
        "colab": {}
      },
      "source": [
        "df1.ix['b']"
      ],
      "execution_count": 0,
      "outputs": []
    },
    {
      "cell_type": "code",
      "metadata": {
        "id": "nvIMGlI-lI7P",
        "colab_type": "code",
        "colab": {}
      },
      "source": [
        "filter = df['salary']> 33000000\n",
        "df[filter]\n",
        "mask = df[\"team\"].notnull()\n",
        "df[mask]"
      ],
      "execution_count": 0,
      "outputs": []
    },
    {
      "cell_type": "code",
      "metadata": {
        "id": "i68YgBUkmdBk",
        "colab_type": "code",
        "colab": {}
      },
      "source": [
        "df.set_index(\"team\" , inplace=True) #選取row資料\n",
        "df.loc[[\"GSW\",\"CLE\",\"LAL\"]]"
      ],
      "execution_count": 0,
      "outputs": []
    },
    {
      "cell_type": "code",
      "metadata": {
        "id": "GckI8pBbnflH",
        "colab_type": "code",
        "colab": {}
      },
      "source": [
        "df.reset_index(inplace=True)\n"
      ],
      "execution_count": 0,
      "outputs": []
    },
    {
      "cell_type": "code",
      "metadata": {
        "id": "a62zlny9pmSn",
        "colab_type": "code",
        "colab": {}
      },
      "source": [
        "sector = df.groupby(\"team\")\n",
        "sector.get_group(\"GSW\").head\n",
        "#sector.size()"
      ],
      "execution_count": 0,
      "outputs": []
    },
    {
      "cell_type": "code",
      "metadata": {
        "id": "gz8c8mITqkDQ",
        "colab_type": "code",
        "colab": {}
      },
      "source": [
        "df.groupby('team').sum()"
      ],
      "execution_count": 0,
      "outputs": []
    },
    {
      "cell_type": "code",
      "metadata": {
        "id": "m6H7c41GB8J2",
        "colab_type": "code",
        "outputId": "f46d3f71-9d77-4d2b-c1cd-aca5b68ea074",
        "colab": {
          "base_uri": "https://localhost:8080/",
          "height": 124
        }
      },
      "source": [
        "df[\"player\"].str.split(\":\").head()"
      ],
      "execution_count": 0,
      "outputs": [
        {
          "output_type": "execute_result",
          "data": {
            "text/plain": [
              "0     [Stephen Curry]\n",
              "1      [LeBron James]\n",
              "2      [Paul Millsap]\n",
              "3    [Gordon Hayward]\n",
              "4     [Blake Griffin]\n",
              "Name: player, dtype: object"
            ]
          },
          "metadata": {
            "tags": []
          },
          "execution_count": 387
        }
      ]
    },
    {
      "cell_type": "code",
      "metadata": {
        "id": "o-4zk0PPHvmI",
        "colab_type": "code",
        "colab": {}
      },
      "source": [
        "from sklearn.datasets import make_blobs\n",
        "X, y = make_blobs(150, 2, centers=2, random_state=2, cluster_std=1.5)\n",
        "plt.scatter(X[:, 0], X[:, 1], c=y, s=50, cmap='RdBu');"
      ],
      "execution_count": 0,
      "outputs": []
    },
    {
      "cell_type": "markdown",
      "metadata": {
        "id": "AHzh7mFlpqUi",
        "colab_type": "text"
      },
      "source": [
        "# 資料視覺化"
      ]
    },
    {
      "cell_type": "markdown",
      "metadata": {
        "id": "IdTQa5kxpnr9",
        "colab_type": "text"
      },
      "source": [
        "## 靜態視覺化"
      ]
    },
    {
      "cell_type": "code",
      "metadata": {
        "id": "oN0HTljfH0p6",
        "colab_type": "code",
        "colab": {}
      },
      "source": [
        "from sklearn.naive_bayes import GaussianNB\n",
        "model = GaussianNB()\n",
        "model.fit(X, y);"
      ],
      "execution_count": 0,
      "outputs": []
    },
    {
      "cell_type": "code",
      "metadata": {
        "id": "n9WRo0UYH5YE",
        "colab_type": "code",
        "outputId": "125165f4-b1da-45cc-c8cc-abddbac99f6e",
        "colab": {
          "base_uri": "https://localhost:8080/",
          "height": 478
        }
      },
      "source": [
        "plt.scatter(X[:, 0], X[:, 1], c=y, s=50, cmap='RdBu')\n",
        "lim = plt.axis()\n",
        "plt.scatter(Xnew[:, 0], Xnew[:, 1], c=ynew, s=20, cmap='RdBu', alpha=0.1)\n",
        "plt.axis(lim);"
      ],
      "execution_count": 0,
      "outputs": [
        {
          "output_type": "error",
          "ename": "NameError",
          "evalue": "ignored",
          "traceback": [
            "\u001b[0;31m---------------------------------------------------------------------------\u001b[0m",
            "\u001b[0;31mNameError\u001b[0m                                 Traceback (most recent call last)",
            "\u001b[0;32m<ipython-input-390-cc91cd0c7dec>\u001b[0m in \u001b[0;36m<module>\u001b[0;34m()\u001b[0m\n\u001b[1;32m      1\u001b[0m \u001b[0mplt\u001b[0m\u001b[0;34m.\u001b[0m\u001b[0mscatter\u001b[0m\u001b[0;34m(\u001b[0m\u001b[0mX\u001b[0m\u001b[0;34m[\u001b[0m\u001b[0;34m:\u001b[0m\u001b[0;34m,\u001b[0m \u001b[0;36m0\u001b[0m\u001b[0;34m]\u001b[0m\u001b[0;34m,\u001b[0m \u001b[0mX\u001b[0m\u001b[0;34m[\u001b[0m\u001b[0;34m:\u001b[0m\u001b[0;34m,\u001b[0m \u001b[0;36m1\u001b[0m\u001b[0;34m]\u001b[0m\u001b[0;34m,\u001b[0m \u001b[0mc\u001b[0m\u001b[0;34m=\u001b[0m\u001b[0my\u001b[0m\u001b[0;34m,\u001b[0m \u001b[0ms\u001b[0m\u001b[0;34m=\u001b[0m\u001b[0;36m50\u001b[0m\u001b[0;34m,\u001b[0m \u001b[0mcmap\u001b[0m\u001b[0;34m=\u001b[0m\u001b[0;34m'RdBu'\u001b[0m\u001b[0;34m)\u001b[0m\u001b[0;34m\u001b[0m\u001b[0;34m\u001b[0m\u001b[0m\n\u001b[1;32m      2\u001b[0m \u001b[0mlim\u001b[0m \u001b[0;34m=\u001b[0m \u001b[0mplt\u001b[0m\u001b[0;34m.\u001b[0m\u001b[0maxis\u001b[0m\u001b[0;34m(\u001b[0m\u001b[0;34m)\u001b[0m\u001b[0;34m\u001b[0m\u001b[0;34m\u001b[0m\u001b[0m\n\u001b[0;32m----> 3\u001b[0;31m \u001b[0mplt\u001b[0m\u001b[0;34m.\u001b[0m\u001b[0mscatter\u001b[0m\u001b[0;34m(\u001b[0m\u001b[0mXnew\u001b[0m\u001b[0;34m[\u001b[0m\u001b[0;34m:\u001b[0m\u001b[0;34m,\u001b[0m \u001b[0;36m0\u001b[0m\u001b[0;34m]\u001b[0m\u001b[0;34m,\u001b[0m \u001b[0mXnew\u001b[0m\u001b[0;34m[\u001b[0m\u001b[0;34m:\u001b[0m\u001b[0;34m,\u001b[0m \u001b[0;36m1\u001b[0m\u001b[0;34m]\u001b[0m\u001b[0;34m,\u001b[0m \u001b[0mc\u001b[0m\u001b[0;34m=\u001b[0m\u001b[0mynew\u001b[0m\u001b[0;34m,\u001b[0m \u001b[0ms\u001b[0m\u001b[0;34m=\u001b[0m\u001b[0;36m20\u001b[0m\u001b[0;34m,\u001b[0m \u001b[0mcmap\u001b[0m\u001b[0;34m=\u001b[0m\u001b[0;34m'RdBu'\u001b[0m\u001b[0;34m,\u001b[0m \u001b[0malpha\u001b[0m\u001b[0;34m=\u001b[0m\u001b[0;36m0.1\u001b[0m\u001b[0;34m)\u001b[0m\u001b[0;34m\u001b[0m\u001b[0;34m\u001b[0m\u001b[0m\n\u001b[0m\u001b[1;32m      4\u001b[0m \u001b[0mplt\u001b[0m\u001b[0;34m.\u001b[0m\u001b[0maxis\u001b[0m\u001b[0;34m(\u001b[0m\u001b[0mlim\u001b[0m\u001b[0;34m)\u001b[0m\u001b[0;34m;\u001b[0m\u001b[0;34m\u001b[0m\u001b[0;34m\u001b[0m\u001b[0m\n",
            "\u001b[0;31mNameError\u001b[0m: name 'Xnew' is not defined"
          ]
        },
        {
          "output_type": "display_data",
          "data": {
            "image/png": "[encoded data removed]",
            "text/plain": [
              "<Figure size 432x288 with 1 Axes>"
            ]
          },
          "metadata": {
            "tags": []
          }
        }
      ]
    },
    {
      "cell_type": "code",
      "metadata": {
        "id": "AAM2RljTIAtw",
        "colab_type": "code",
        "colab": {}
      },
      "source": [
        "yprob = model.predict_proba(Xnew)\n",
        "yprob[-8:].round(2)"
      ],
      "execution_count": 0,
      "outputs": []
    },
    {
      "cell_type": "code",
      "metadata": {
        "id": "l_Cd72rLOB0W",
        "colab_type": "code",
        "colab": {}
      },
      "source": [
        "data = [\n",
        "    {'price': 850000, 'rooms': 4, 'neighborhood': 'Queen Anne'},\n",
        "    {'price': 700000, 'rooms': 3, 'neighborhood': 'Fremont'},\n",
        "    {'price': 650000, 'rooms': 3, 'neighborhood': 'Wallingford'},\n",
        "    {'price': 600000, 'rooms': 2, 'neighborhood': 'Fremont'}\n",
        "]"
      ],
      "execution_count": 0,
      "outputs": []
    },
    {
      "cell_type": "code",
      "metadata": {
        "id": "EwdMc0iNOEMt",
        "colab_type": "code",
        "colab": {}
      },
      "source": [
        "from sklearn.feature_extraction import DictVectorizer\n",
        "vec = DictVectorizer(sparse=False, dtype=int)\n",
        "vec.fit_transform(data)"
      ],
      "execution_count": 0,
      "outputs": []
    },
    {
      "cell_type": "code",
      "metadata": {
        "id": "_V-EseTDOG-F",
        "colab_type": "code",
        "colab": {}
      },
      "source": [
        "vec.get_feature_names()"
      ],
      "execution_count": 0,
      "outputs": []
    },
    {
      "cell_type": "code",
      "metadata": {
        "id": "i2668KrNOI4F",
        "colab_type": "code",
        "colab": {}
      },
      "source": [
        "vec = DictVectorizer(sparse=True, dtype=int)\n",
        "vec.fit_transform(data)"
      ],
      "execution_count": 0,
      "outputs": []
    },
    {
      "cell_type": "code",
      "metadata": {
        "id": "4reH4AqOB6yu",
        "colab_type": "code",
        "outputId": "c6f936fa-4d84-4cbd-9881-1dfead7fbf50",
        "colab": {
          "base_uri": "https://localhost:8080/",
          "height": 35
        }
      },
      "source": [
        "arr = np.arange(10)\n",
        "arr[5]\n",
        "arr[5:8]"
      ],
      "execution_count": 0,
      "outputs": [
        {
          "output_type": "execute_result",
          "data": {
            "text/plain": [
              "array([5, 6, 7])"
            ]
          },
          "metadata": {
            "tags": []
          },
          "execution_count": 396
        }
      ]
    },
    {
      "cell_type": "code",
      "metadata": {
        "id": "nq5ytrACGnvx",
        "colab_type": "code",
        "colab": {}
      },
      "source": [
        "arr[5:9] = 7"
      ],
      "execution_count": 0,
      "outputs": []
    },
    {
      "cell_type": "code",
      "metadata": {
        "id": "-OIBowdbGrbc",
        "colab_type": "code",
        "outputId": "9105c0fd-927e-4ac3-bf75-9d136e0a8b3c",
        "colab": {
          "base_uri": "https://localhost:8080/",
          "height": 35
        }
      },
      "source": [
        "arr"
      ],
      "execution_count": 0,
      "outputs": [
        {
          "output_type": "execute_result",
          "data": {
            "text/plain": [
              "array([0, 1, 2, 3, 4, 7, 7, 7, 7, 9])"
            ]
          },
          "metadata": {
            "tags": []
          },
          "execution_count": 398
        }
      ]
    },
    {
      "cell_type": "code",
      "metadata": {
        "id": "pea6_Qa2Gzr3",
        "colab_type": "code",
        "outputId": "9e94cbc5-4338-483b-f2f5-279461c6dce5",
        "colab": {
          "base_uri": "https://localhost:8080/",
          "height": 35
        }
      },
      "source": [
        "myarr = np.arange(10)\n",
        "slice = myarr[5:8]\n",
        "myarr[5:8] = 7\n",
        "slice[1] = 87\n",
        "myarr"
      ],
      "execution_count": 0,
      "outputs": [
        {
          "output_type": "execute_result",
          "data": {
            "text/plain": [
              "array([ 0,  1,  2,  3,  4,  7, 87,  7,  8,  9])"
            ]
          },
          "metadata": {
            "tags": []
          },
          "execution_count": 399
        }
      ]
    },
    {
      "cell_type": "code",
      "metadata": {
        "id": "4ec1SJvCMhNZ",
        "colab_type": "code",
        "outputId": "4c7485cc-cf30-46a4-a80f-a535a3f0c502",
        "colab": {
          "base_uri": "https://localhost:8080/",
          "height": 88
        }
      },
      "source": [
        "x = np.arange(4)\n",
        "x2 = x.reshape(4,1)\n",
        "print(x2)"
      ],
      "execution_count": 0,
      "outputs": [
        {
          "output_type": "stream",
          "text": [
            "[[0]\n",
            " [1]\n",
            " [2]\n",
            " [3]]\n"
          ],
          "name": "stdout"
        }
      ]
    },
    {
      "cell_type": "code",
      "metadata": {
        "id": "9C08YDpNMsC8",
        "colab_type": "code",
        "outputId": "1321afe8-df19-46d3-9635-707d90ca16fa",
        "colab": {
          "base_uri": "https://localhost:8080/",
          "height": 35
        }
      },
      "source": [
        "y = np.ones(5)\n",
        "print(y)"
      ],
      "execution_count": 0,
      "outputs": [
        {
          "output_type": "stream",
          "text": [
            "[1. 1. 1. 1. 1.]\n"
          ],
          "name": "stdout"
        }
      ]
    },
    {
      "cell_type": "code",
      "metadata": {
        "id": "JRopi6tkM631",
        "colab_type": "code",
        "outputId": "2aef9580-7c59-43e5-96ce-7c6af43a045b",
        "colab": {
          "base_uri": "https://localhost:8080/",
          "height": 88
        }
      },
      "source": [
        "x2 + y"
      ],
      "execution_count": 0,
      "outputs": [
        {
          "output_type": "execute_result",
          "data": {
            "text/plain": [
              "array([[1., 1., 1., 1., 1.],\n",
              "       [2., 2., 2., 2., 2.],\n",
              "       [3., 3., 3., 3., 3.],\n",
              "       [4., 4., 4., 4., 4.]])"
            ]
          },
          "metadata": {
            "tags": []
          },
          "execution_count": 402
        }
      ]
    },
    {
      "cell_type": "code",
      "metadata": {
        "id": "8Ad-QFCITNGJ",
        "colab_type": "code",
        "colab": {}
      },
      "source": [
        "years = [1000,1500,1600,1700,1750,1800,1850,\n",
        "        1900,1950,1960,1965,1970,1975,1980,\n",
        "        1985,1990,1995,2000,2005,\n",
        "        2010,2015]\n",
        "\n",
        "pops = [200,400,458,580,662,791,1000,\n",
        "        1262,1650,2525,2758,3018,3322,3682,\n",
        "        4061,4440,4853,5310,6520,\n",
        "        6930,7349]"
      ],
      "execution_count": 0,
      "outputs": []
    },
    {
      "cell_type": "code",
      "metadata": {
        "id": "KSWG0XYWTP5l",
        "colab_type": "code",
        "outputId": "72e4aa16-828c-4941-e234-2930f65613e1",
        "colab": {
          "base_uri": "https://localhost:8080/",
          "height": 274
        }
      },
      "source": [
        "plt.plot(years,pops)\n",
        "plt.show()"
      ],
      "execution_count": 0,
      "outputs": [
        {
          "output_type": "display_data",
          "data": {
            "image/png": "[encoded data removed]",
            "text/plain": [
              "<Figure size 432x288 with 1 Axes>"
            ]
          },
          "metadata": {
            "tags": []
          }
        }
      ]
    },
    {
      "cell_type": "code",
      "metadata": {
        "id": "1oZysCGkTbbr",
        "colab_type": "code",
        "colab": {}
      },
      "source": [
        "years = [1950,1960,1965,1970,1975,1980,\n",
        "        1985,1990,1995,2000,2005,\n",
        "        2010,2015]\n",
        "pops = [2.5,2.7,3,3.3,3.6,4.0,\n",
        "        4.4,4.8,5.3,6.1,6.5,6.9,7.3]\n",
        "deaths = [1.2,1.7,1.8,2.2,2.5,2.7,2.9,3,3.1,3.2,3.5,3.6,4]\n",
        "#plt.plot(years,pops,color=(255/255,100/255,100/255))\n",
        "#plt.plot(years,deaths,'--', color=(100/255,100/255,255/255))\n",
        "plt.title(\"Population Growth\") # title\n",
        "plt.ylabel(\"Population in billions\") # y label\n",
        "plt.xlabel(\"Population growth by year\") # x label\n",
        "lines = plt.plot(years,pops,years,deaths) #顯示multilines 全部寫在一起放進lines變數\n",
        "plt.grid(True)\n",
        "plt.setp(lines,marker = \"o\") \n",
        "\n",
        "plt.show()"
      ],
      "execution_count": 0,
      "outputs": []
    },
    {
      "cell_type": "code",
      "metadata": {
        "id": "NZdISuSwVfk8",
        "colab_type": "code",
        "outputId": "9f5218bc-da13-4b82-a545-4ad58c61dfb1",
        "colab": {
          "base_uri": "https://localhost:8080/",
          "height": 274
        }
      },
      "source": [
        "x = np.arange(0, 1.0, 0.01)\n",
        "y1 = np.sin(4*np.pi*x)\n",
        "y2 = np.sin(2*np.pi*x)\n",
        "lines = plt.plot(x, y1, x, y2)\n",
        "l1, l2 = lines\n",
        "plt.setp(lines, linestyle='--')      \n",
        "plt.show()"
      ],
      "execution_count": 0,
      "outputs": [
        {
          "output_type": "display_data",
          "data": {
            "image/png": "[encoded data removed]",
            "text/plain": [
              "<Figure size 432x288 with 1 Axes>"
            ]
          },
          "metadata": {
            "tags": []
          }
        }
      ]
    },
    {
      "cell_type": "code",
      "metadata": {
        "id": "u1nrcyEWZuWw",
        "colab_type": "code",
        "colab": {}
      },
      "source": [
        "labels = 'A','B','C','D','E','F'\n",
        "size = [33,52,12,17,62,48]\n",
        "plt.pie(size , labels = labels,autopct='%1.1f%%') #autopct顯示百分比\n",
        "plt.axis('equal')\n",
        "plt.show()"
      ],
      "execution_count": 0,
      "outputs": []
    },
    {
      "cell_type": "code",
      "metadata": {
        "id": "hX4x6s2sZ9sV",
        "colab_type": "code",
        "outputId": "5ed605e5-498e-426f-9055-b208cc295f82",
        "colab": {
          "base_uri": "https://localhost:8080/",
          "height": 580
        }
      },
      "source": [
        "separated = (.1,0,0,0,0,0)\n",
        "plt.pie(size , labels = labels,autopct='%1.1f%%',explode=separated) "
      ],
      "execution_count": 0,
      "outputs": [
        {
          "output_type": "execute_result",
          "data": {
            "text/plain": [
              "([<matplotlib.patches.Wedge at 0x7fbb28c57668>,\n",
              "  <matplotlib.patches.Wedge at 0x7fbb28c57d68>,\n",
              "  <matplotlib.patches.Wedge at 0x7fbb28c604a8>,\n",
              "  <matplotlib.patches.Wedge at 0x7fbb28c60ba8>,\n",
              "  <matplotlib.patches.Wedge at 0x7fbb28beb2e8>,\n",
              "  <matplotlib.patches.Wedge at 0x7fbb28beb9e8>],\n",
              " [Text(1.0737542970091534, 0.535772068751609, 'A'),\n",
              "  Text(-0.09245558475252973, 1.0961076429110728, 'B'),\n",
              "  Text(-0.9146165663805668, 0.6111272670256356, 'C'),\n",
              "  Text(-1.0817673529888219, 0.19944772249278306, 'D'),\n",
              "  Text(-0.6614488386341488, -0.8789115051411808, 'E'),\n",
              "  Text(0.8600145779685513, -0.6858388481863468, 'F')],\n",
              " [Text(0.6263566732553395, 0.31253370677177184, '14.7%'),\n",
              "  Text(-0.050430318955925306, 0.5978768961333124, '23.2%'),\n",
              "  Text(-0.4988817634803091, 0.33334214565034664, '5.4%'),\n",
              "  Text(-0.5900549198120846, 0.10878966681424529, '7.6%'),\n",
              "  Text(-0.3607902756186266, -0.47940627553155307, '27.7%'),\n",
              "  Text(0.46909886071011886, -0.37409391719255275, '21.4%')])"
            ]
          },
          "metadata": {
            "tags": []
          },
          "execution_count": 408
        },
        {
          "output_type": "display_data",
          "data": {
            "image/png": "[encoded data removed]",
            "text/plain": [
              "<Figure size 432x288 with 1 Axes>"
            ]
          },
          "metadata": {
            "tags": []
          }
        }
      ]
    },
    {
      "cell_type": "code",
      "metadata": {
        "id": "8c6iojVqaW4S",
        "colab_type": "code",
        "outputId": "7dc31ebb-e850-4b98-d877-22f00f133e42",
        "colab": {
          "base_uri": "https://localhost:8080/",
          "height": 124
        }
      },
      "source": [
        "data = {'names':['a','b','c','d','e'],\n",
        "        'jan':[133,122,101,104,320],\n",
        "        'feb':[122,132,144,98,62],\n",
        "        'march':[64,99,32,12,65] }\n",
        "df1 = pd.DataFrame(data,columns=['names','jan','feb','march'])\n",
        "print(df1)"
      ],
      "execution_count": 0,
      "outputs": [
        {
          "output_type": "stream",
          "text": [
            "  names  jan  feb  march\n",
            "0     a  133  122     64\n",
            "1     b  122  132     99\n",
            "2     c  101  144     32\n",
            "3     d  104   98     12\n",
            "4     e  320   62     65\n"
          ],
          "name": "stdout"
        }
      ]
    },
    {
      "cell_type": "code",
      "metadata": {
        "id": "DHQoRPjDa3y0",
        "colab_type": "code",
        "colab": {}
      },
      "source": [
        "df1['total'] = df1['jan']+ df1['feb']+df1['march']\n",
        "colors = [(1,.4,.4),(1,.6,1),(.5,.3,1),(.7,.7,.2),(.6,.2,.6)]"
      ],
      "execution_count": 0,
      "outputs": []
    },
    {
      "cell_type": "code",
      "metadata": {
        "id": "s5P8KKPMa_t8",
        "colab_type": "code",
        "outputId": "84f2cbda-d9a2-4564-c268-3b914a1c03b6",
        "colab": {
          "base_uri": "https://localhost:8080/",
          "height": 260
        }
      },
      "source": [
        "plt.pie( df1['total'] ,\n",
        "    labels = df1['names'],\n",
        "    colors = colors,\n",
        "    autopct='%1.1f%%',\n",
        "    ) \n",
        "plt.axis('equal') \n",
        "plt.show()"
      ],
      "execution_count": 0,
      "outputs": [
        {
          "output_type": "display_data",
          "data": {
            "image/png": "[encoded data removed]",
            "text/plain": [
              "<Figure size 432x288 with 1 Axes>"
            ]
          },
          "metadata": {
            "tags": []
          }
        }
      ]
    },
    {
      "cell_type": "code",
      "metadata": {
        "id": "Q0rU8AFwcDMS",
        "colab_type": "code",
        "outputId": "17d9bb9c-f8da-46fa-972c-967c897b90c7",
        "colab": {
          "base_uri": "https://localhost:8080/",
          "height": 301
        }
      },
      "source": [
        "col_count = 3\n",
        "bar_width = 0.2\n",
        "A_scores = (553,536,548)\n",
        "B_scores = (518,523,523)\n",
        "C_scores = (613,570,588)\n",
        "D_scores = (475,505,499)\n",
        "index = np.arange(col_count)\n",
        "\n",
        "A = plt.bar(index,\n",
        "           A_scores, \n",
        "           bar_width,\n",
        "           alpha=.4,\n",
        "           label=\"K\") \n",
        "B = plt.bar(index+0.2,\n",
        "            B_scores,\n",
        "            bar_width,\n",
        "            alpha=.4,\n",
        "            label=\"C\") \n",
        "C = plt.bar(index+0.4,\n",
        "            C_scores,\n",
        "            bar_width,\n",
        "            alpha=.4,\n",
        "            label=\"N\") # x,y ,width\n",
        "D = plt.bar(index+0.6,\n",
        "            D_scores,\n",
        "            bar_width,\n",
        "            alpha=.4,\n",
        "            label=\"F\") # x,y ,width\n",
        "\n",
        "def createLabels(data):\n",
        "    for item in data:\n",
        "        height = item.get_height()\n",
        "        plt.text(\n",
        "            item.get_x()+item.get_width()/2., \n",
        "            height*1.05, \n",
        "            '%d' % int(height),\n",
        "            ha = \"center\",\n",
        "            va = \"bottom\",\n",
        "        )\n",
        "createLabels(A)\n",
        "createLabels(B)\n",
        "createLabels(C)\n",
        "createLabels(D)\n",
        "plt.ylabel(\"Mean score\")\n",
        "plt.xlabel(\"Subject\")\n",
        "plt.title(\"Test Scores by Contry\")\n",
        "plt.xticks(index+.3 / 2 ,(\"Math\",\"Reading\",\"Science\")) #Bar底標文字為了至中所以+.3 / 2\n",
        "plt.legend() #右上方文字\n",
        "\n",
        "plt.grid(True)\n",
        "plt.show()"
      ],
      "execution_count": 0,
      "outputs": [
        {
          "output_type": "display_data",
          "data": {
            "image/png": "[encoded data removed]",
            "text/plain": [
              "<Figure size 432x288 with 1 Axes>"
            ]
          },
          "metadata": {
            "tags": []
          }
        }
      ]
    },
    {
      "cell_type": "code",
      "metadata": {
        "id": "_rB2ldVOix48",
        "colab_type": "code",
        "colab": {}
      },
      "source": [
        "pd.core.common.is_list_like = pd.api.types.is_list_like\n",
        "import pandas_datareader as web\n",
        "import datetime"
      ],
      "execution_count": 0,
      "outputs": []
    },
    {
      "cell_type": "code",
      "metadata": {
        "id": "mfuGgJYtlYnW",
        "colab_type": "code",
        "colab": {}
      },
      "source": [
        "start = datetime.datetime(2016, 1, 1)\n",
        "end = datetime.datetime(2017, 1, 1)"
      ],
      "execution_count": 0,
      "outputs": []
    },
    {
      "cell_type": "code",
      "metadata": {
        "id": "D_VcXFCvlcmw",
        "colab_type": "code",
        "outputId": "71bace30-106d-4dba-9bc4-d4f4e50ab8d5",
        "colab": {
          "base_uri": "https://localhost:8080/",
          "height": 1000
        }
      },
      "source": [
        "data = web.DataReader(\"F\", 'yahoo', start, end) # F指的是Finance的資料\n",
        "data"
      ],
      "execution_count": 0,
      "outputs": [
        {
          "output_type": "execute_result",
          "data": {
            "text/html": [
              "<div>\n",
              "<style scoped>\n",
              "    .dataframe tbody tr th:only-of-type {\n",
              "        vertical-align: middle;\n",
              "    }\n",
              "\n",
              "    .dataframe tbody tr th {\n",
              "        vertical-align: top;\n",
              "    }\n",
              "\n",
              "    .dataframe thead th {\n",
              "        text-align: right;\n",
              "    }\n",
              "</style>\n",
              "<table border=\"1\" class=\"dataframe\">\n",
              "  <thead>\n",
              "    <tr style=\"text-align: right;\">\n",
              "      <th></th>\n",
              "      <th>High</th>\n",
              "      <th>Low</th>\n",
              "      <th>Open</th>\n",
              "      <th>Close</th>\n",
              "      <th>Volume</th>\n",
              "      <th>Adj Close</th>\n",
              "    </tr>\n",
              "    <tr>\n",
              "      <th>Date</th>\n",
              "      <th></th>\n",
              "      <th></th>\n",
              "      <th></th>\n",
              "      <th></th>\n",
              "      <th></th>\n",
              "      <th></th>\n",
              "    </tr>\n",
              "  </thead>\n",
              "  <tbody>\n",
              "    <tr>\n",
              "      <th>2016-01-04</th>\n",
              "      <td>14.00</td>\n",
              "      <td>13.75</td>\n",
              "      <td>13.87</td>\n",
              "      <td>13.97</td>\n",
              "      <td>38618500.0</td>\n",
              "      <td>11.204133</td>\n",
              "    </tr>\n",
              "    <tr>\n",
              "      <th>2016-01-05</th>\n",
              "      <td>14.00</td>\n",
              "      <td>13.51</td>\n",
              "      <td>13.97</td>\n",
              "      <td>13.72</td>\n",
              "      <td>50267500.0</td>\n",
              "      <td>11.003628</td>\n",
              "    </tr>\n",
              "    <tr>\n",
              "      <th>2016-01-06</th>\n",
              "      <td>13.56</td>\n",
              "      <td>13.05</td>\n",
              "      <td>13.56</td>\n",
              "      <td>13.11</td>\n",
              "      <td>61285500.0</td>\n",
              "      <td>10.514400</td>\n",
              "    </tr>\n",
              "    <tr>\n",
              "      <th>2016-01-07</th>\n",
              "      <td>13.04</td>\n",
              "      <td>12.60</td>\n",
              "      <td>12.90</td>\n",
              "      <td>12.70</td>\n",
              "      <td>57846700.0</td>\n",
              "      <td>10.185575</td>\n",
              "    </tr>\n",
              "    <tr>\n",
              "      <th>2016-01-08</th>\n",
              "      <td>13.10</td>\n",
              "      <td>12.50</td>\n",
              "      <td>13.05</td>\n",
              "      <td>12.54</td>\n",
              "      <td>46199400.0</td>\n",
              "      <td>10.057251</td>\n",
              "    </tr>\n",
              "    <tr>\n",
              "      <th>2016-01-11</th>\n",
              "      <td>12.82</td>\n",
              "      <td>12.55</td>\n",
              "      <td>12.80</td>\n",
              "      <td>12.77</td>\n",
              "      <td>41269100.0</td>\n",
              "      <td>10.241715</td>\n",
              "    </tr>\n",
              "    <tr>\n",
              "      <th>2016-01-12</th>\n",
              "      <td>13.04</td>\n",
              "      <td>12.58</td>\n",
              "      <td>13.03</td>\n",
              "      <td>12.85</td>\n",
              "      <td>50983700.0</td>\n",
              "      <td>10.305876</td>\n",
              "    </tr>\n",
              "    <tr>\n",
              "      <th>2016-01-13</th>\n",
              "      <td>12.84</td>\n",
              "      <td>12.06</td>\n",
              "      <td>12.73</td>\n",
              "      <td>12.20</td>\n",
              "      <td>102174700.0</td>\n",
              "      <td>9.784567</td>\n",
              "    </tr>\n",
              "    <tr>\n",
              "      <th>2016-01-14</th>\n",
              "      <td>12.31</td>\n",
              "      <td>11.82</td>\n",
              "      <td>12.19</td>\n",
              "      <td>12.19</td>\n",
              "      <td>62938600.0</td>\n",
              "      <td>9.776546</td>\n",
              "    </tr>\n",
              "    <tr>\n",
              "      <th>2016-01-15</th>\n",
              "      <td>12.00</td>\n",
              "      <td>11.58</td>\n",
              "      <td>11.81</td>\n",
              "      <td>11.97</td>\n",
              "      <td>69030000.0</td>\n",
              "      <td>9.600105</td>\n",
              "    </tr>\n",
              "    <tr>\n",
              "      <th>2016-01-19</th>\n",
              "      <td>12.16</td>\n",
              "      <td>11.82</td>\n",
              "      <td>12.15</td>\n",
              "      <td>11.95</td>\n",
              "      <td>41142600.0</td>\n",
              "      <td>9.584064</td>\n",
              "    </tr>\n",
              "    <tr>\n",
              "      <th>2016-01-20</th>\n",
              "      <td>12.07</td>\n",
              "      <td>11.47</td>\n",
              "      <td>11.79</td>\n",
              "      <td>11.90</td>\n",
              "      <td>59879000.0</td>\n",
              "      <td>9.543963</td>\n",
              "    </tr>\n",
              "    <tr>\n",
              "      <th>2016-01-21</th>\n",
              "      <td>12.28</td>\n",
              "      <td>11.86</td>\n",
              "      <td>12.01</td>\n",
              "      <td>12.01</td>\n",
              "      <td>48841800.0</td>\n",
              "      <td>9.632187</td>\n",
              "    </tr>\n",
              "    <tr>\n",
              "      <th>2016-01-22</th>\n",
              "      <td>12.36</td>\n",
              "      <td>12.03</td>\n",
              "      <td>12.26</td>\n",
              "      <td>12.14</td>\n",
              "      <td>44537800.0</td>\n",
              "      <td>9.736448</td>\n",
              "    </tr>\n",
              "    <tr>\n",
              "      <th>2016-01-25</th>\n",
              "      <td>12.31</td>\n",
              "      <td>11.93</td>\n",
              "      <td>12.30</td>\n",
              "      <td>11.98</td>\n",
              "      <td>96738600.0</td>\n",
              "      <td>9.608127</td>\n",
              "    </tr>\n",
              "    <tr>\n",
              "      <th>2016-01-26</th>\n",
              "      <td>12.30</td>\n",
              "      <td>12.04</td>\n",
              "      <td>12.14</td>\n",
              "      <td>12.26</td>\n",
              "      <td>45969800.0</td>\n",
              "      <td>9.832688</td>\n",
              "    </tr>\n",
              "    <tr>\n",
              "      <th>2016-01-27</th>\n",
              "      <td>12.10</td>\n",
              "      <td>11.73</td>\n",
              "      <td>12.05</td>\n",
              "      <td>11.85</td>\n",
              "      <td>42064200.0</td>\n",
              "      <td>9.621581</td>\n",
              "    </tr>\n",
              "    <tr>\n",
              "      <th>2016-01-28</th>\n",
              "      <td>12.06</td>\n",
              "      <td>11.20</td>\n",
              "      <td>12.03</td>\n",
              "      <td>11.71</td>\n",
              "      <td>75699800.0</td>\n",
              "      <td>9.507908</td>\n",
              "    </tr>\n",
              "    <tr>\n",
              "      <th>2016-01-29</th>\n",
              "      <td>11.94</td>\n",
              "      <td>11.65</td>\n",
              "      <td>11.83</td>\n",
              "      <td>11.94</td>\n",
              "      <td>52137400.0</td>\n",
              "      <td>9.694656</td>\n",
              "    </tr>\n",
              "    <tr>\n",
              "      <th>2016-02-01</th>\n",
              "      <td>12.14</td>\n",
              "      <td>11.73</td>\n",
              "      <td>11.92</td>\n",
              "      <td>12.07</td>\n",
              "      <td>37301200.0</td>\n",
              "      <td>9.800211</td>\n",
              "    </tr>\n",
              "    <tr>\n",
              "      <th>2016-02-02</th>\n",
              "      <td>12.08</td>\n",
              "      <td>11.45</td>\n",
              "      <td>11.95</td>\n",
              "      <td>11.51</td>\n",
              "      <td>55649200.0</td>\n",
              "      <td>9.345517</td>\n",
              "    </tr>\n",
              "    <tr>\n",
              "      <th>2016-02-03</th>\n",
              "      <td>11.68</td>\n",
              "      <td>11.02</td>\n",
              "      <td>11.67</td>\n",
              "      <td>11.46</td>\n",
              "      <td>69454600.0</td>\n",
              "      <td>9.304921</td>\n",
              "    </tr>\n",
              "    <tr>\n",
              "      <th>2016-02-04</th>\n",
              "      <td>11.69</td>\n",
              "      <td>11.26</td>\n",
              "      <td>11.37</td>\n",
              "      <td>11.53</td>\n",
              "      <td>40223100.0</td>\n",
              "      <td>9.361760</td>\n",
              "    </tr>\n",
              "    <tr>\n",
              "      <th>2016-02-05</th>\n",
              "      <td>11.70</td>\n",
              "      <td>11.42</td>\n",
              "      <td>11.52</td>\n",
              "      <td>11.45</td>\n",
              "      <td>33322200.0</td>\n",
              "      <td>9.296803</td>\n",
              "    </tr>\n",
              "    <tr>\n",
              "      <th>2016-02-08</th>\n",
              "      <td>11.69</td>\n",
              "      <td>11.25</td>\n",
              "      <td>11.39</td>\n",
              "      <td>11.59</td>\n",
              "      <td>45274500.0</td>\n",
              "      <td>9.410476</td>\n",
              "    </tr>\n",
              "    <tr>\n",
              "      <th>2016-02-09</th>\n",
              "      <td>11.61</td>\n",
              "      <td>11.22</td>\n",
              "      <td>11.47</td>\n",
              "      <td>11.35</td>\n",
              "      <td>48956800.0</td>\n",
              "      <td>9.215607</td>\n",
              "    </tr>\n",
              "    <tr>\n",
              "      <th>2016-02-10</th>\n",
              "      <td>11.57</td>\n",
              "      <td>11.33</td>\n",
              "      <td>11.46</td>\n",
              "      <td>11.34</td>\n",
              "      <td>38160300.0</td>\n",
              "      <td>9.207490</td>\n",
              "    </tr>\n",
              "    <tr>\n",
              "      <th>2016-02-11</th>\n",
              "      <td>11.43</td>\n",
              "      <td>11.10</td>\n",
              "      <td>11.17</td>\n",
              "      <td>11.17</td>\n",
              "      <td>45801300.0</td>\n",
              "      <td>9.069459</td>\n",
              "    </tr>\n",
              "    <tr>\n",
              "      <th>2016-02-12</th>\n",
              "      <td>11.58</td>\n",
              "      <td>11.18</td>\n",
              "      <td>11.25</td>\n",
              "      <td>11.55</td>\n",
              "      <td>28085000.0</td>\n",
              "      <td>9.377998</td>\n",
              "    </tr>\n",
              "    <tr>\n",
              "      <th>2016-02-16</th>\n",
              "      <td>11.88</td>\n",
              "      <td>11.53</td>\n",
              "      <td>11.75</td>\n",
              "      <td>11.87</td>\n",
              "      <td>41072100.0</td>\n",
              "      <td>9.637820</td>\n",
              "    </tr>\n",
              "    <tr>\n",
              "      <th>...</th>\n",
              "      <td>...</td>\n",
              "      <td>...</td>\n",
              "      <td>...</td>\n",
              "      <td>...</td>\n",
              "      <td>...</td>\n",
              "      <td>...</td>\n",
              "    </tr>\n",
              "    <tr>\n",
              "      <th>2016-11-17</th>\n",
              "      <td>11.96</td>\n",
              "      <td>11.78</td>\n",
              "      <td>11.90</td>\n",
              "      <td>11.87</td>\n",
              "      <td>38502500.0</td>\n",
              "      <td>9.973691</td>\n",
              "    </tr>\n",
              "    <tr>\n",
              "      <th>2016-11-18</th>\n",
              "      <td>11.90</td>\n",
              "      <td>11.73</td>\n",
              "      <td>11.87</td>\n",
              "      <td>11.76</td>\n",
              "      <td>30662000.0</td>\n",
              "      <td>9.881265</td>\n",
              "    </tr>\n",
              "    <tr>\n",
              "      <th>2016-11-21</th>\n",
              "      <td>11.90</td>\n",
              "      <td>11.77</td>\n",
              "      <td>11.77</td>\n",
              "      <td>11.79</td>\n",
              "      <td>19508600.0</td>\n",
              "      <td>9.906471</td>\n",
              "    </tr>\n",
              "    <tr>\n",
              "      <th>2016-11-22</th>\n",
              "      <td>11.91</td>\n",
              "      <td>11.73</td>\n",
              "      <td>11.76</td>\n",
              "      <td>11.89</td>\n",
              "      <td>24274700.0</td>\n",
              "      <td>9.990497</td>\n",
              "    </tr>\n",
              "    <tr>\n",
              "      <th>2016-11-23</th>\n",
              "      <td>12.00</td>\n",
              "      <td>11.85</td>\n",
              "      <td>11.90</td>\n",
              "      <td>11.90</td>\n",
              "      <td>22414000.0</td>\n",
              "      <td>9.998899</td>\n",
              "    </tr>\n",
              "    <tr>\n",
              "      <th>2016-11-25</th>\n",
              "      <td>12.06</td>\n",
              "      <td>11.93</td>\n",
              "      <td>11.95</td>\n",
              "      <td>12.04</td>\n",
              "      <td>11439600.0</td>\n",
              "      <td>10.116533</td>\n",
              "    </tr>\n",
              "    <tr>\n",
              "      <th>2016-11-28</th>\n",
              "      <td>12.05</td>\n",
              "      <td>11.89</td>\n",
              "      <td>12.02</td>\n",
              "      <td>11.92</td>\n",
              "      <td>24407200.0</td>\n",
              "      <td>10.015702</td>\n",
              "    </tr>\n",
              "    <tr>\n",
              "      <th>2016-11-29</th>\n",
              "      <td>12.00</td>\n",
              "      <td>11.87</td>\n",
              "      <td>11.93</td>\n",
              "      <td>11.92</td>\n",
              "      <td>23690800.0</td>\n",
              "      <td>10.015702</td>\n",
              "    </tr>\n",
              "    <tr>\n",
              "      <th>2016-11-30</th>\n",
              "      <td>12.14</td>\n",
              "      <td>11.92</td>\n",
              "      <td>11.97</td>\n",
              "      <td>11.96</td>\n",
              "      <td>47646200.0</td>\n",
              "      <td>10.049312</td>\n",
              "    </tr>\n",
              "    <tr>\n",
              "      <th>2016-12-01</th>\n",
              "      <td>12.80</td>\n",
              "      <td>12.18</td>\n",
              "      <td>12.23</td>\n",
              "      <td>12.43</td>\n",
              "      <td>95143600.0</td>\n",
              "      <td>10.444227</td>\n",
              "    </tr>\n",
              "    <tr>\n",
              "      <th>2016-12-02</th>\n",
              "      <td>12.58</td>\n",
              "      <td>12.15</td>\n",
              "      <td>12.58</td>\n",
              "      <td>12.24</td>\n",
              "      <td>38689800.0</td>\n",
              "      <td>10.284582</td>\n",
              "    </tr>\n",
              "    <tr>\n",
              "      <th>2016-12-05</th>\n",
              "      <td>12.50</td>\n",
              "      <td>12.29</td>\n",
              "      <td>12.31</td>\n",
              "      <td>12.44</td>\n",
              "      <td>36220000.0</td>\n",
              "      <td>10.452631</td>\n",
              "    </tr>\n",
              "    <tr>\n",
              "      <th>2016-12-06</th>\n",
              "      <td>12.59</td>\n",
              "      <td>12.37</td>\n",
              "      <td>12.40</td>\n",
              "      <td>12.56</td>\n",
              "      <td>23923900.0</td>\n",
              "      <td>10.553459</td>\n",
              "    </tr>\n",
              "    <tr>\n",
              "      <th>2016-12-07</th>\n",
              "      <td>13.15</td>\n",
              "      <td>12.54</td>\n",
              "      <td>12.59</td>\n",
              "      <td>13.06</td>\n",
              "      <td>58600400.0</td>\n",
              "      <td>10.973582</td>\n",
              "    </tr>\n",
              "    <tr>\n",
              "      <th>2016-12-08</th>\n",
              "      <td>13.15</td>\n",
              "      <td>12.97</td>\n",
              "      <td>13.07</td>\n",
              "      <td>13.03</td>\n",
              "      <td>41459500.0</td>\n",
              "      <td>10.948374</td>\n",
              "    </tr>\n",
              "    <tr>\n",
              "      <th>2016-12-09</th>\n",
              "      <td>13.20</td>\n",
              "      <td>12.91</td>\n",
              "      <td>13.00</td>\n",
              "      <td>13.17</td>\n",
              "      <td>45256100.0</td>\n",
              "      <td>11.066008</td>\n",
              "    </tr>\n",
              "    <tr>\n",
              "      <th>2016-12-12</th>\n",
              "      <td>13.10</td>\n",
              "      <td>12.81</td>\n",
              "      <td>13.08</td>\n",
              "      <td>12.82</td>\n",
              "      <td>39596800.0</td>\n",
              "      <td>10.771922</td>\n",
              "    </tr>\n",
              "    <tr>\n",
              "      <th>2016-12-13</th>\n",
              "      <td>12.88</td>\n",
              "      <td>12.75</td>\n",
              "      <td>12.84</td>\n",
              "      <td>12.77</td>\n",
              "      <td>39570500.0</td>\n",
              "      <td>10.729910</td>\n",
              "    </tr>\n",
              "    <tr>\n",
              "      <th>2016-12-14</th>\n",
              "      <td>12.79</td>\n",
              "      <td>12.50</td>\n",
              "      <td>12.65</td>\n",
              "      <td>12.53</td>\n",
              "      <td>42820100.0</td>\n",
              "      <td>10.528251</td>\n",
              "    </tr>\n",
              "    <tr>\n",
              "      <th>2016-12-15</th>\n",
              "      <td>12.72</td>\n",
              "      <td>12.52</td>\n",
              "      <td>12.54</td>\n",
              "      <td>12.58</td>\n",
              "      <td>23774800.0</td>\n",
              "      <td>10.570263</td>\n",
              "    </tr>\n",
              "    <tr>\n",
              "      <th>2016-12-16</th>\n",
              "      <td>12.70</td>\n",
              "      <td>12.56</td>\n",
              "      <td>12.66</td>\n",
              "      <td>12.63</td>\n",
              "      <td>28354900.0</td>\n",
              "      <td>10.612275</td>\n",
              "    </tr>\n",
              "    <tr>\n",
              "      <th>2016-12-19</th>\n",
              "      <td>12.80</td>\n",
              "      <td>12.59</td>\n",
              "      <td>12.59</td>\n",
              "      <td>12.66</td>\n",
              "      <td>22830000.0</td>\n",
              "      <td>10.637484</td>\n",
              "    </tr>\n",
              "    <tr>\n",
              "      <th>2016-12-20</th>\n",
              "      <td>12.82</td>\n",
              "      <td>12.68</td>\n",
              "      <td>12.70</td>\n",
              "      <td>12.78</td>\n",
              "      <td>17834000.0</td>\n",
              "      <td>10.738313</td>\n",
              "    </tr>\n",
              "    <tr>\n",
              "      <th>2016-12-21</th>\n",
              "      <td>12.77</td>\n",
              "      <td>12.64</td>\n",
              "      <td>12.73</td>\n",
              "      <td>12.64</td>\n",
              "      <td>18117100.0</td>\n",
              "      <td>10.620679</td>\n",
              "    </tr>\n",
              "    <tr>\n",
              "      <th>2016-12-22</th>\n",
              "      <td>12.64</td>\n",
              "      <td>12.40</td>\n",
              "      <td>12.63</td>\n",
              "      <td>12.40</td>\n",
              "      <td>27821100.0</td>\n",
              "      <td>10.419019</td>\n",
              "    </tr>\n",
              "    <tr>\n",
              "      <th>2016-12-23</th>\n",
              "      <td>12.46</td>\n",
              "      <td>12.36</td>\n",
              "      <td>12.43</td>\n",
              "      <td>12.46</td>\n",
              "      <td>15621200.0</td>\n",
              "      <td>10.469437</td>\n",
              "    </tr>\n",
              "    <tr>\n",
              "      <th>2016-12-27</th>\n",
              "      <td>12.51</td>\n",
              "      <td>12.36</td>\n",
              "      <td>12.43</td>\n",
              "      <td>12.39</td>\n",
              "      <td>19467400.0</td>\n",
              "      <td>10.410618</td>\n",
              "    </tr>\n",
              "    <tr>\n",
              "      <th>2016-12-28</th>\n",
              "      <td>12.45</td>\n",
              "      <td>12.22</td>\n",
              "      <td>12.37</td>\n",
              "      <td>12.25</td>\n",
              "      <td>26875400.0</td>\n",
              "      <td>10.292983</td>\n",
              "    </tr>\n",
              "    <tr>\n",
              "      <th>2016-12-29</th>\n",
              "      <td>12.31</td>\n",
              "      <td>12.22</td>\n",
              "      <td>12.25</td>\n",
              "      <td>12.23</td>\n",
              "      <td>19819100.0</td>\n",
              "      <td>10.276177</td>\n",
              "    </tr>\n",
              "    <tr>\n",
              "      <th>2016-12-30</th>\n",
              "      <td>12.28</td>\n",
              "      <td>12.08</td>\n",
              "      <td>12.24</td>\n",
              "      <td>12.13</td>\n",
              "      <td>27405700.0</td>\n",
              "      <td>10.192155</td>\n",
              "    </tr>\n",
              "  </tbody>\n",
              "</table>\n",
              "<p>252 rows × 6 columns</p>\n",
              "</div>"
            ],
            "text/plain": [
              "             High    Low   Open  Close       Volume  Adj Close\n",
              "Date                                                          \n",
              "2016-01-04  14.00  13.75  13.87  13.97   38618500.0  11.204133\n",
              "2016-01-05  14.00  13.51  13.97  13.72   50267500.0  11.003628\n",
              "2016-01-06  13.56  13.05  13.56  13.11   61285500.0  10.514400\n",
              "2016-01-07  13.04  12.60  12.90  12.70   57846700.0  10.185575\n",
              "2016-01-08  13.10  12.50  13.05  12.54   46199400.0  10.057251\n",
              "2016-01-11  12.82  12.55  12.80  12.77   41269100.0  10.241715\n",
              "2016-01-12  13.04  12.58  13.03  12.85   50983700.0  10.305876\n",
              "2016-01-13  12.84  12.06  12.73  12.20  102174700.0   9.784567\n",
              "2016-01-14  12.31  11.82  12.19  12.19   62938600.0   9.776546\n",
              "2016-01-15  12.00  11.58  11.81  11.97   69030000.0   9.600105\n",
              "2016-01-19  12.16  11.82  12.15  11.95   41142600.0   9.584064\n",
              "2016-01-20  12.07  11.47  11.79  11.90   59879000.0   9.543963\n",
              "2016-01-21  12.28  11.86  12.01  12.01   48841800.0   9.632187\n",
              "2016-01-22  12.36  12.03  12.26  12.14   44537800.0   9.736448\n",
              "2016-01-25  12.31  11.93  12.30  11.98   96738600.0   9.608127\n",
              "2016-01-26  12.30  12.04  12.14  12.26   45969800.0   9.832688\n",
              "2016-01-27  12.10  11.73  12.05  11.85   42064200.0   9.621581\n",
              "2016-01-28  12.06  11.20  12.03  11.71   75699800.0   9.507908\n",
              "2016-01-29  11.94  11.65  11.83  11.94   52137400.0   9.694656\n",
              "2016-02-01  12.14  11.73  11.92  12.07   37301200.0   9.800211\n",
              "2016-02-02  12.08  11.45  11.95  11.51   55649200.0   9.345517\n",
              "2016-02-03  11.68  11.02  11.67  11.46   69454600.0   9.304921\n",
              "2016-02-04  11.69  11.26  11.37  11.53   40223100.0   9.361760\n",
              "2016-02-05  11.70  11.42  11.52  11.45   33322200.0   9.296803\n",
              "2016-02-08  11.69  11.25  11.39  11.59   45274500.0   9.410476\n",
              "2016-02-09  11.61  11.22  11.47  11.35   48956800.0   9.215607\n",
              "2016-02-10  11.57  11.33  11.46  11.34   38160300.0   9.207490\n",
              "2016-02-11  11.43  11.10  11.17  11.17   45801300.0   9.069459\n",
              "2016-02-12  11.58  11.18  11.25  11.55   28085000.0   9.377998\n",
              "2016-02-16  11.88  11.53  11.75  11.87   41072100.0   9.637820\n",
              "...           ...    ...    ...    ...          ...        ...\n",
              "2016-11-17  11.96  11.78  11.90  11.87   38502500.0   9.973691\n",
              "2016-11-18  11.90  11.73  11.87  11.76   30662000.0   9.881265\n",
              "2016-11-21  11.90  11.77  11.77  11.79   19508600.0   9.906471\n",
              "2016-11-22  11.91  11.73  11.76  11.89   24274700.0   9.990497\n",
              "2016-11-23  12.00  11.85  11.90  11.90   22414000.0   9.998899\n",
              "2016-11-25  12.06  11.93  11.95  12.04   11439600.0  10.116533\n",
              "2016-11-28  12.05  11.89  12.02  11.92   24407200.0  10.015702\n",
              "2016-11-29  12.00  11.87  11.93  11.92   23690800.0  10.015702\n",
              "2016-11-30  12.14  11.92  11.97  11.96   47646200.0  10.049312\n",
              "2016-12-01  12.80  12.18  12.23  12.43   95143600.0  10.444227\n",
              "2016-12-02  12.58  12.15  12.58  12.24   38689800.0  10.284582\n",
              "2016-12-05  12.50  12.29  12.31  12.44   36220000.0  10.452631\n",
              "2016-12-06  12.59  12.37  12.40  12.56   23923900.0  10.553459\n",
              "2016-12-07  13.15  12.54  12.59  13.06   58600400.0  10.973582\n",
              "2016-12-08  13.15  12.97  13.07  13.03   41459500.0  10.948374\n",
              "2016-12-09  13.20  12.91  13.00  13.17   45256100.0  11.066008\n",
              "2016-12-12  13.10  12.81  13.08  12.82   39596800.0  10.771922\n",
              "2016-12-13  12.88  12.75  12.84  12.77   39570500.0  10.729910\n",
              "2016-12-14  12.79  12.50  12.65  12.53   42820100.0  10.528251\n",
              "2016-12-15  12.72  12.52  12.54  12.58   23774800.0  10.570263\n",
              "2016-12-16  12.70  12.56  12.66  12.63   28354900.0  10.612275\n",
              "2016-12-19  12.80  12.59  12.59  12.66   22830000.0  10.637484\n",
              "2016-12-20  12.82  12.68  12.70  12.78   17834000.0  10.738313\n",
              "2016-12-21  12.77  12.64  12.73  12.64   18117100.0  10.620679\n",
              "2016-12-22  12.64  12.40  12.63  12.40   27821100.0  10.419019\n",
              "2016-12-23  12.46  12.36  12.43  12.46   15621200.0  10.469437\n",
              "2016-12-27  12.51  12.36  12.43  12.39   19467400.0  10.410618\n",
              "2016-12-28  12.45  12.22  12.37  12.25   26875400.0  10.292983\n",
              "2016-12-29  12.31  12.22  12.25  12.23   19819100.0  10.276177\n",
              "2016-12-30  12.28  12.08  12.24  12.13   27405700.0  10.192155\n",
              "\n",
              "[252 rows x 6 columns]"
            ]
          },
          "metadata": {
            "tags": []
          },
          "execution_count": 415
        }
      ]
    },
    {
      "cell_type": "code",
      "metadata": {
        "id": "SXrOLsVhmBN_",
        "colab_type": "code",
        "outputId": "3366e7b8-4b82-4f3f-9e5e-5be5c1af8063",
        "colab": {
          "base_uri": "https://localhost:8080/",
          "height": 314
        }
      },
      "source": [
        "data.plot()"
      ],
      "execution_count": 0,
      "outputs": [
        {
          "output_type": "execute_result",
          "data": {
            "text/plain": [
              "<matplotlib.axes._subplots.AxesSubplot at 0x7fbb289d7828>"
            ]
          },
          "metadata": {
            "tags": []
          },
          "execution_count": 416
        },
        {
          "output_type": "display_data",
          "data": {
            "image/png": "[encoded data removed]",
            "text/plain": [
              "<Figure size 432x288 with 1 Axes>"
            ]
          },
          "metadata": {
            "tags": []
          }
        }
      ]
    },
    {
      "cell_type": "code",
      "metadata": {
        "id": "Q5yuT9YzmOJl",
        "colab_type": "code",
        "outputId": "b02b9e2f-da8e-41cb-8948-32971747a35e",
        "colab": {
          "base_uri": "https://localhost:8080/",
          "height": 308
        }
      },
      "source": [
        "data.plot(y=\"Close\")\n"
      ],
      "execution_count": 0,
      "outputs": [
        {
          "output_type": "execute_result",
          "data": {
            "text/plain": [
              "<matplotlib.axes._subplots.AxesSubplot at 0x7fbb28a03b00>"
            ]
          },
          "metadata": {
            "tags": []
          },
          "execution_count": 417
        },
        {
          "output_type": "display_data",
          "data": {
            "image/png": "[encoded data removed]",
            "text/plain": [
              "<Figure size 432x288 with 1 Axes>"
            ]
          },
          "metadata": {
            "tags": []
          }
        }
      ]
    },
    {
      "cell_type": "code",
      "metadata": {
        "id": "rIYTloJ6mXqe",
        "colab_type": "code",
        "outputId": "20374157-5116-4b58-c308-4ea56b2d77cc",
        "colab": {
          "base_uri": "https://localhost:8080/",
          "height": 308
        }
      },
      "source": [
        "data[\"Close\"].plot()"
      ],
      "execution_count": 0,
      "outputs": [
        {
          "output_type": "execute_result",
          "data": {
            "text/plain": [
              "<matplotlib.axes._subplots.AxesSubplot at 0x7fbb28b08b38>"
            ]
          },
          "metadata": {
            "tags": []
          },
          "execution_count": 418
        },
        {
          "output_type": "display_data",
          "data": {
            "image/png": "[encoded data removed]",
            "text/plain": [
              "<Figure size 432x288 with 1 Axes>"
            ]
          },
          "metadata": {
            "tags": []
          }
        }
      ]
    },
    {
      "cell_type": "code",
      "metadata": {
        "id": "XNoC6nh2m1hE",
        "colab_type": "code",
        "outputId": "7ee83f44-6f50-42c6-c850-27d4ec51735e",
        "colab": {
          "base_uri": "https://localhost:8080/",
          "height": 308
        }
      },
      "source": [
        "data[[\"High\",\"Low\"]].plot()"
      ],
      "execution_count": 0,
      "outputs": [
        {
          "output_type": "execute_result",
          "data": {
            "text/plain": [
              "<matplotlib.axes._subplots.AxesSubplot at 0x7fbb28aff8d0>"
            ]
          },
          "metadata": {
            "tags": []
          },
          "execution_count": 419
        },
        {
          "output_type": "display_data",
          "data": {
            "image/png": "[encoded data removed]",
            "text/plain": [
              "<Figure size 432x288 with 1 Axes>"
            ]
          },
          "metadata": {
            "tags": []
          }
        }
      ]
    },
    {
      "cell_type": "code",
      "metadata": {
        "id": "cBTSAqu4nPV2",
        "colab_type": "code",
        "colab": {}
      },
      "source": [
        "df = pd.DataFrame(np.random.randn(100, 4), index=pd.date_range('12/31/2017', periods=100), columns=list('ABCD')) #建立一筆隨機的資料np.random.randn(100, 4)，x為日期(從12/31開始為期100天的period)，columns設定為A,B,C,D \n",
        "df"
      ],
      "execution_count": 0,
      "outputs": []
    },
    {
      "cell_type": "code",
      "metadata": {
        "id": "6rSSBkeUnnm-",
        "colab_type": "code",
        "colab": {}
      },
      "source": [
        "df = df.cumsum()\n",
        "df"
      ],
      "execution_count": 0,
      "outputs": []
    },
    {
      "cell_type": "code",
      "metadata": {
        "id": "FoUGw-AeqPO7",
        "colab_type": "code",
        "colab": {}
      },
      "source": [
        "df.plot()"
      ],
      "execution_count": 0,
      "outputs": []
    },
    {
      "cell_type": "markdown",
      "metadata": {
        "id": "EtAeEMTjpT2P",
        "colab_type": "text"
      },
      "source": [
        "## 動態視覺化"
      ]
    },
    {
      "cell_type": "code",
      "metadata": {
        "id": "hyd7Qfi6q2y2",
        "colab_type": "code",
        "colab": {}
      },
      "source": [
        "from bokeh.plotting import figure, show\n",
        "\n",
        "p = figure(plot_width=500, plot_height=500)\n",
        "\n",
        "x = [1,2,3,4,5,6,7,8,9,10,11]\n",
        "y = [6,3,7,2,4,6,1,2,3,5,6]\n",
        "p.circle(x, y, size=20, color=\"gray\", alpha=0.6)\n",
        "p.line(x, y, line_width=3)\n",
        "\n",
        "show(p)\n"
      ],
      "execution_count": 0,
      "outputs": []
    },
    {
      "cell_type": "code",
      "metadata": {
        "id": "XOpu2oUFrqH-",
        "colab_type": "code",
        "colab": {}
      },
      "source": [
        "x1 = [1, 2, 3]\n",
        "x2 = [2, 3, 4, 5, 6]\n",
        "y1 = [3, 2, 5]\n",
        "y2 = [3, 2, 4, 1, 3]\n",
        "p.multi_line([x1,x2] , [y1, y2],\n",
        "             color=[\"firebrick\", \"navy\"], alpha=[0.8, 0.3], line_width=5)\n",
        "show(p)"
      ],
      "execution_count": 0,
      "outputs": []
    },
    {
      "cell_type": "code",
      "metadata": {
        "id": "jiKD5XJ27s35",
        "colab_type": "code",
        "colab": {}
      },
      "source": [
        "p = figure(plot_width=500, plot_height=500)\n",
        "p.vbar(x=[1, 2, 3, 4], width=0.5, bottom=0,\n",
        "       top=[1.2, 2.5, 3.7, 2.9], color=\"black\",alpha=0.4)\n",
        "show(p)"
      ],
      "execution_count": 0,
      "outputs": []
    },
    {
      "cell_type": "code",
      "metadata": {
        "id": "TraVLS2974rW",
        "colab_type": "code",
        "colab": {}
      },
      "source": [
        "p = figure(plot_width=500, plot_height=500)\n",
        "x1 = [1, 4, 5, 2]\n",
        "x2 = [3, 4, 5, 6]\n",
        "x3 = [1,3,2]\n",
        "y1 = [2, 3, 5, 6]\n",
        "y2 = [4, 7, 7, 5]\n",
        "y3 = [7,8,5.5]\n",
        "p.patches([x1,x2,x3 ], [y1,y2,y3],\n",
        "          color=[\"black\", \"navy\",\"firebrick\"], alpha=[0.2, 0.2,0.3], line_width=2)\n",
        "\n",
        "show(p)"
      ],
      "execution_count": 0,
      "outputs": []
    },
    {
      "cell_type": "code",
      "metadata": {
        "id": "g2yFmRM1AeEb",
        "colab_type": "code",
        "colab": {}
      },
      "source": [
        "html_doc = \"\"\"\n",
        "<html><head><title>The Dormouse's story</title></head>\n",
        "<body>\n",
        "<p class=\"title\"><b>The Dormouse's story</b></p>\n",
        "<p class=\"story\">Once upon a time there were three little sisters; and their names were\n",
        "<a href=\"http://example.com/elsie\" class=\"sister\" id=\"link1\">Elsie</a>,\n",
        "<a href=\"http://example.com/lacie\" class=\"sister\" id=\"link2\">Lacie</a> and\n",
        "<a href=\"http://example.com/tillie\" class=\"sister\" id=\"link3\">Tillie</a>;\n",
        "and they lived at the bottom of a well.</p>\n",
        "<p class=\"story\">...</p>\n",
        "\"\"\""
      ],
      "execution_count": 0,
      "outputs": []
    },
    {
      "cell_type": "code",
      "metadata": {
        "id": "0q6prAnFAh32",
        "colab_type": "code",
        "colab": {}
      },
      "source": [
        "from bs4 import BeautifulSoup \n",
        "soup = BeautifulSoup(html_doc, 'html.parser')  #使用html.parser這個python的解析程序"
      ],
      "execution_count": 0,
      "outputs": []
    },
    {
      "cell_type": "code",
      "metadata": {
        "id": "sEfNzvxwAptv",
        "colab_type": "code",
        "colab": {}
      },
      "source": [
        "print(soup.prettify())"
      ],
      "execution_count": 0,
      "outputs": []
    },
    {
      "cell_type": "code",
      "metadata": {
        "id": "-rB9uXTBA09N",
        "colab_type": "code",
        "outputId": "5a3fe17b-979f-45d4-8b20-c813a4e7c940",
        "colab": {
          "base_uri": "https://localhost:8080/",
          "height": 141
        }
      },
      "source": [
        "soup.find_all('p')"
      ],
      "execution_count": 0,
      "outputs": [
        {
          "output_type": "execute_result",
          "data": {
            "text/plain": [
              "[<p class=\"title\"><b>The Dormouse's story</b></p>,\n",
              " <p class=\"story\">Once upon a time there were three little sisters; and their names were\n",
              " <a class=\"sister\" href=\"http://example.com/elsie\" id=\"link1\">Elsie</a>,\n",
              " <a class=\"sister\" href=\"http://example.com/lacie\" id=\"link2\">Lacie</a> and\n",
              " <a class=\"sister\" href=\"http://example.com/tillie\" id=\"link3\">Tillie</a>;\n",
              " and they lived at the bottom of a well.</p>,\n",
              " <p class=\"story\">...</p>]"
            ]
          },
          "metadata": {
            "tags": []
          },
          "execution_count": 430
        }
      ]
    },
    {
      "cell_type": "code",
      "metadata": {
        "id": "NJMzvADxBGap",
        "colab_type": "code",
        "outputId": "71b4ad2b-98e2-401a-d05d-2dda7123baa5",
        "colab": {
          "base_uri": "https://localhost:8080/",
          "height": 70
        }
      },
      "source": [
        "for link in soup.find_all('a'):\n",
        "    print(link.get('href'))"
      ],
      "execution_count": 0,
      "outputs": [
        {
          "output_type": "stream",
          "text": [
            "http://example.com/elsie\n",
            "http://example.com/lacie\n",
            "http://example.com/tillie\n"
          ],
          "name": "stdout"
        }
      ]
    },
    {
      "cell_type": "code",
      "metadata": {
        "id": "etKM99dMBM-8",
        "colab_type": "code",
        "outputId": "472ffbdf-c0f0-4d9d-90cb-f4bbc860d4db",
        "colab": {
          "base_uri": "https://localhost:8080/",
          "height": 70
        }
      },
      "source": [
        "for className in soup.find_all('p'):\n",
        "    print(className.get('class'))"
      ],
      "execution_count": 0,
      "outputs": [
        {
          "output_type": "stream",
          "text": [
            "['title']\n",
            "['story']\n",
            "['story']\n"
          ],
          "name": "stdout"
        }
      ]
    },
    {
      "cell_type": "code",
      "metadata": {
        "id": "iSF5u2R4BQsx",
        "colab_type": "code",
        "outputId": "8188255b-f1cc-4bbc-b645-c3553c74fe85",
        "colab": {
          "base_uri": "https://localhost:8080/",
          "height": 35
        }
      },
      "source": [
        "soup.find(id=\"link3\")"
      ],
      "execution_count": 0,
      "outputs": [
        {
          "output_type": "execute_result",
          "data": {
            "text/plain": [
              "<a class=\"sister\" href=\"http://example.com/tillie\" id=\"link3\">Tillie</a>"
            ]
          },
          "metadata": {
            "tags": []
          },
          "execution_count": 433
        }
      ]
    },
    {
      "cell_type": "code",
      "metadata": {
        "id": "KBgYP4htBa7a",
        "colab_type": "code",
        "outputId": "c0feb0a9-b6ae-4710-ad59-30609827dc79",
        "colab": {
          "base_uri": "https://localhost:8080/",
          "height": 212
        }
      },
      "source": [
        "print(soup.get_text())"
      ],
      "execution_count": 0,
      "outputs": [
        {
          "output_type": "stream",
          "text": [
            "\n",
            "The Dormouse's story\n",
            "\n",
            "The Dormouse's story\n",
            "Once upon a time there were three little sisters; and their names were\n",
            "Elsie,\n",
            "Lacie and\n",
            "Tillie;\n",
            "and they lived at the bottom of a well.\n",
            "...\n",
            "\n"
          ],
          "name": "stdout"
        }
      ]
    },
    {
      "cell_type": "markdown",
      "metadata": {
        "id": "JdxMIZizJ55x",
        "colab_type": "text"
      },
      "source": [
        "# Decision tree"
      ]
    },
    {
      "cell_type": "code",
      "metadata": {
        "id": "0ru-3wleCZH8",
        "colab_type": "code",
        "colab": {}
      },
      "source": [
        "from sklearn import tree \n",
        "features = [[150,1],[170,1],[130,0],[140,0]]\n",
        "labels = [0,0,1,1]"
      ],
      "execution_count": 0,
      "outputs": []
    },
    {
      "cell_type": "code",
      "metadata": {
        "id": "lp-P00W_Dvdv",
        "colab_type": "code",
        "colab": {}
      },
      "source": [
        "clf = tree.DecisionTreeClassifier()\n",
        "clf = clf.fit(features,labels)"
      ],
      "execution_count": 0,
      "outputs": []
    },
    {
      "cell_type": "code",
      "metadata": {
        "id": "0RQ8OxaYFRzB",
        "colab_type": "code",
        "outputId": "88428885-09be-4a4a-fabc-543648544504",
        "colab": {
          "base_uri": "https://localhost:8080/",
          "height": 35
        }
      },
      "source": [
        "wantPredict = clf.predict([[120,0]]) \n",
        "if wantPredict == [1]:\n",
        "    print('This is an apple')\n",
        "elif wantPredict == [0]:\n",
        "    print('This is an orange')"
      ],
      "execution_count": 0,
      "outputs": [
        {
          "output_type": "stream",
          "text": [
            "This is an apple\n"
          ],
          "name": "stdout"
        }
      ]
    },
    {
      "cell_type": "markdown",
      "metadata": {
        "id": "eUh2qjcaKAcg",
        "colab_type": "text"
      },
      "source": [
        "# KNN"
      ]
    },
    {
      "cell_type": "code",
      "metadata": {
        "id": "_EaR1CL7HeGs",
        "colab_type": "code",
        "colab": {}
      },
      "source": [
        "from sklearn import datasets\n",
        "from sklearn.neighbors import KNeighborsClassifier\n",
        "from sklearn.model_selection import train_test_split"
      ],
      "execution_count": 0,
      "outputs": []
    },
    {
      "cell_type": "code",
      "metadata": {
        "id": "BWxj-kSYIVrN",
        "colab_type": "code",
        "colab": {}
      },
      "source": [
        "iris = datasets.load_iris()\n",
        "print(iris)"
      ],
      "execution_count": 0,
      "outputs": []
    },
    {
      "cell_type": "code",
      "metadata": {
        "id": "cMGJp_itIquG",
        "colab_type": "code",
        "colab": {}
      },
      "source": [
        "iris_data = iris.data\n",
        "iris_label = iris.target"
      ],
      "execution_count": 0,
      "outputs": []
    },
    {
      "cell_type": "code",
      "metadata": {
        "id": "H3J_Lf8kIyrf",
        "colab_type": "code",
        "outputId": "31c85e28-984a-49dc-eb75-f1abf0688c11",
        "colab": {
          "base_uri": "https://localhost:8080/",
          "height": 141
        }
      },
      "source": [
        "iris_data[0:3]\n",
        "iris_label"
      ],
      "execution_count": 0,
      "outputs": [
        {
          "output_type": "execute_result",
          "data": {
            "text/plain": [
              "array([0, 0, 0, 0, 0, 0, 0, 0, 0, 0, 0, 0, 0, 0, 0, 0, 0, 0, 0, 0, 0, 0,\n",
              "       0, 0, 0, 0, 0, 0, 0, 0, 0, 0, 0, 0, 0, 0, 0, 0, 0, 0, 0, 0, 0, 0,\n",
              "       0, 0, 0, 0, 0, 0, 1, 1, 1, 1, 1, 1, 1, 1, 1, 1, 1, 1, 1, 1, 1, 1,\n",
              "       1, 1, 1, 1, 1, 1, 1, 1, 1, 1, 1, 1, 1, 1, 1, 1, 1, 1, 1, 1, 1, 1,\n",
              "       1, 1, 1, 1, 1, 1, 1, 1, 1, 1, 1, 1, 2, 2, 2, 2, 2, 2, 2, 2, 2, 2,\n",
              "       2, 2, 2, 2, 2, 2, 2, 2, 2, 2, 2, 2, 2, 2, 2, 2, 2, 2, 2, 2, 2, 2,\n",
              "       2, 2, 2, 2, 2, 2, 2, 2, 2, 2, 2, 2, 2, 2, 2, 2, 2, 2])"
            ]
          },
          "metadata": {
            "tags": []
          },
          "execution_count": 441
        }
      ]
    },
    {
      "cell_type": "code",
      "metadata": {
        "id": "4_9PNTdIJBDB",
        "colab_type": "code",
        "colab": {}
      },
      "source": [
        "train_data , test_data , train_label , test_label = train_test_split(iris_data,iris_label,test_size=0.2)"
      ],
      "execution_count": 0,
      "outputs": []
    },
    {
      "cell_type": "code",
      "metadata": {
        "id": "Np_ec4IuJHxg",
        "colab_type": "code",
        "colab": {}
      },
      "source": [
        "knn = KNeighborsClassifier()"
      ],
      "execution_count": 0,
      "outputs": []
    },
    {
      "cell_type": "code",
      "metadata": {
        "id": "ItpERuSEJJ41",
        "colab_type": "code",
        "outputId": "57febf99-f582-485c-c279-3221503da21a",
        "colab": {
          "base_uri": "https://localhost:8080/",
          "height": 70
        }
      },
      "source": [
        "knn.fit(train_data,train_label)"
      ],
      "execution_count": 0,
      "outputs": [
        {
          "output_type": "execute_result",
          "data": {
            "text/plain": [
              "KNeighborsClassifier(algorithm='auto', leaf_size=30, metric='minkowski',\n",
              "                     metric_params=None, n_jobs=None, n_neighbors=5, p=2,\n",
              "                     weights='uniform')"
            ]
          },
          "metadata": {
            "tags": []
          },
          "execution_count": 444
        }
      ]
    },
    {
      "cell_type": "code",
      "metadata": {
        "id": "NMCNYkGLJO0O",
        "colab_type": "code",
        "outputId": "edda3efc-a6dc-41bf-b2aa-6d2c3d1e9135",
        "colab": {
          "base_uri": "https://localhost:8080/"
        }
      },
      "source": [
        "print(knn.predict(test_data))"
      ],
      "execution_count": 0,
      "outputs": [
        {
          "output_type": "stream",
          "text": [
            "[1 1 2 0 1 2 0 2 2 0 1 0 2 1 0 0 0 1 0 0 1 1 2 1 1 2 0 0 1 0]\n"
          ],
          "name": "stdout"
        }
      ]
    },
    {
      "cell_type": "code",
      "metadata": {
        "id": "r13FaVFRJU8i",
        "colab_type": "code",
        "outputId": "72e83579-1e8b-4104-d5c3-563247efb346",
        "colab": {
          "base_uri": "https://localhost:8080/",
          "height": 35
        }
      },
      "source": [
        "print(test_label)"
      ],
      "execution_count": 0,
      "outputs": [
        {
          "output_type": "stream",
          "text": [
            "[1 1 2 0 1 2 0 2 2 0 2 0 2 1 0 0 0 1 0 0 2 1 2 1 1 2 0 0 1 0]\n"
          ],
          "name": "stdout"
        }
      ]
    },
    {
      "cell_type": "markdown",
      "metadata": {
        "id": "gSAdIwVkKFXs",
        "colab_type": "text"
      },
      "source": [
        "# Linear regession"
      ]
    },
    {
      "cell_type": "code",
      "metadata": {
        "id": "4xrQAegxKKtx",
        "colab_type": "code",
        "colab": {}
      },
      "source": [
        "from sklearn.linear_model import LinearRegression\n",
        "import matplotlib.pyplot as plt\n",
        "from sklearn import datasets"
      ],
      "execution_count": 0,
      "outputs": []
    },
    {
      "cell_type": "code",
      "metadata": {
        "id": "k1wzhGPCKTJm",
        "colab_type": "code",
        "colab": {}
      },
      "source": [
        "X,y = datasets.make_regression(n_samples=200,n_features=1,n_targets=1,noise=30) \n",
        "#make_regression()方法，建立200個樣本(samples)，只有一種特徵(features)和一種標籤類別（label），我們將noise設為10，這樣資料會比較分散一點。"
      ],
      "execution_count": 0,
      "outputs": []
    },
    {
      "cell_type": "code",
      "metadata": {
        "id": "7X2a0g4BKdpn",
        "colab_type": "code",
        "outputId": "647c3454-215f-46d2-c470-704dc8453141",
        "colab": {
          "base_uri": "https://localhost:8080/",
          "height": 274
        }
      },
      "source": [
        "plt.scatter(X,y,linewidths=0.1)\n",
        "plt.show()"
      ],
      "execution_count": 0,
      "outputs": [
        {
          "output_type": "display_data",
          "data": {
            "image/png": "[encoded data removed]",
            "text/plain": [
              "<Figure size 432x288 with 1 Axes>"
            ]
          },
          "metadata": {
            "tags": []
          }
        }
      ]
    },
    {
      "cell_type": "code",
      "metadata": {
        "id": "BX3ECwaaK9LQ",
        "colab_type": "code",
        "colab": {}
      },
      "source": [
        "model = LinearRegression()\n",
        "model.fit(X,y)"
      ],
      "execution_count": 0,
      "outputs": []
    },
    {
      "cell_type": "code",
      "metadata": {
        "id": "hxysySrnLOx2",
        "colab_type": "code",
        "colab": {}
      },
      "source": [
        "predict = model.predict(X[:200,:])"
      ],
      "execution_count": 0,
      "outputs": []
    },
    {
      "cell_type": "code",
      "metadata": {
        "id": "F0QPp4hYLSYp",
        "colab_type": "code",
        "colab": {}
      },
      "source": [
        "plt.plot(X,predict,c=\"red\")\n",
        "plt.scatter(X,y)\n",
        "plt.show()"
      ],
      "execution_count": 0,
      "outputs": []
    },
    {
      "cell_type": "markdown",
      "metadata": {
        "id": "_mUaVFMlQTC0",
        "colab_type": "text"
      },
      "source": [
        "# Stanardlization"
      ]
    },
    {
      "cell_type": "code",
      "metadata": {
        "id": "W3MiBPLgPeo5",
        "colab_type": "code",
        "colab": {}
      },
      "source": [
        "from sklearn import preprocessing\n",
        "from sklearn.datasets.samples_generator import make_classification\n",
        "from sklearn.svm import SVC  #SVM算法"
      ],
      "execution_count": 0,
      "outputs": []
    },
    {
      "cell_type": "code",
      "metadata": {
        "id": "ms59Z5v6QgVj",
        "colab_type": "code",
        "outputId": "5cb4686c-c3ac-45e8-f26c-62969de5b4e7",
        "colab": {
          "base_uri": "https://localhost:8080/",
          "height": 274
        }
      },
      "source": [
        "X,y = make_classification(n_samples=300,n_features=2,n_redundant=0,n_informative=2,\n",
        "                          random_state=3,scale=100,n_clusters_per_class=1)\n",
        "plt.scatter(X[:,0],X[:,1],c=y)\n",
        "plt.show()"
      ],
      "execution_count": 0,
      "outputs": [
        {
          "output_type": "display_data",
          "data": {
            "image/png": "[encoded data removed]",
            "text/plain": [
              "<Figure size 432x288 with 1 Axes>"
            ]
          },
          "metadata": {
            "tags": []
          }
        }
      ]
    },
    {
      "cell_type": "code",
      "metadata": {
        "id": "UtFx-9TgRBxu",
        "colab_type": "code",
        "colab": {}
      },
      "source": [
        "X_train,X_test,y_train,y_test = train_test_split(X,y,test_size=0.2)\n",
        "clf = SVC()\n",
        "clf.fit(X_train,y_train)"
      ],
      "execution_count": 0,
      "outputs": []
    },
    {
      "cell_type": "code",
      "metadata": {
        "id": "48YY_GfPREij",
        "colab_type": "code",
        "outputId": "c2673bea-bc71-4c7a-a3f1-073ae4b317e1",
        "colab": {
          "base_uri": "https://localhost:8080/",
          "height": 35
        }
      },
      "source": [
        "clf.score(X_test,y_test)"
      ],
      "execution_count": 0,
      "outputs": [
        {
          "output_type": "execute_result",
          "data": {
            "text/plain": [
              "0.5333333333333333"
            ]
          },
          "metadata": {
            "tags": []
          },
          "execution_count": 453
        }
      ]
    },
    {
      "cell_type": "code",
      "metadata": {
        "id": "vUzSFEySRJbz",
        "colab_type": "code",
        "outputId": "042020db-2d14-4ceb-e009-3b35905d8dfb",
        "colab": {
          "base_uri": "https://localhost:8080/",
          "height": 90
        }
      },
      "source": [
        "X = preprocessing.scale(X) #標準化\n",
        "X_train,X_test,y_train,y_test = train_test_split(X,y,test_size=0.2)\n",
        "clf = SVC()\n",
        "clf.fit(X_train,y_train)\n",
        "clf.score(X_test,y_test)"
      ],
      "execution_count": 0,
      "outputs": [
        {
          "output_type": "stream",
          "text": [
            "/usr/local/lib/python3.6/dist-packages/sklearn/svm/base.py:193: FutureWarning: The default value of gamma will change from 'auto' to 'scale' in version 0.22 to account better for unscaled features. Set gamma explicitly to 'auto' or 'scale' to avoid this warning.\n",
            "  \"avoid this warning.\", FutureWarning)\n"
          ],
          "name": "stderr"
        },
        {
          "output_type": "execute_result",
          "data": {
            "text/plain": [
              "0.9833333333333333"
            ]
          },
          "metadata": {
            "tags": []
          },
          "execution_count": 454
        }
      ]
    },
    {
      "cell_type": "markdown",
      "metadata": {
        "id": "uCzb_tD9gF7Z",
        "colab_type": "text"
      },
      "source": [
        "# Crossvalidation"
      ]
    },
    {
      "cell_type": "code",
      "metadata": {
        "id": "0Vrt4A_IgEuf",
        "colab_type": "code",
        "colab": {}
      },
      "source": [
        "from sklearn.cross_validation import cross_val_score"
      ],
      "execution_count": 0,
      "outputs": []
    },
    {
      "cell_type": "markdown",
      "metadata": {
        "id": "vNb3T-0qqAn6",
        "colab_type": "text"
      },
      "source": [
        "# 存模組"
      ]
    },
    {
      "cell_type": "code",
      "metadata": {
        "id": "GOV3z7_homl7",
        "colab_type": "code",
        "colab": {}
      },
      "source": [
        "from sklearn import svm\n",
        "from sklearn import datasets\n",
        "from sklearn.externals import joblib"
      ],
      "execution_count": 0,
      "outputs": []
    },
    {
      "cell_type": "code",
      "metadata": {
        "id": "KzSCUsFAq9_U",
        "colab_type": "code",
        "outputId": "2f9b25b5-597f-41ba-d488-9b610e1f4849",
        "colab": {
          "base_uri": "https://localhost:8080/",
          "height": 144
        }
      },
      "source": [
        "clf = svm.SVC()\n",
        "iris = datasets.load_iris()\n",
        "X,y = iris.data , iris.target\n",
        "clf.fit(X,y)"
      ],
      "execution_count": 0,
      "outputs": [
        {
          "output_type": "stream",
          "text": [
            "/usr/local/lib/python3.6/dist-packages/sklearn/svm/base.py:193: FutureWarning: The default value of gamma will change from 'auto' to 'scale' in version 0.22 to account better for unscaled features. Set gamma explicitly to 'auto' or 'scale' to avoid this warning.\n",
            "  \"avoid this warning.\", FutureWarning)\n"
          ],
          "name": "stderr"
        },
        {
          "output_type": "execute_result",
          "data": {
            "text/plain": [
              "SVC(C=1.0, cache_size=200, class_weight=None, coef0=0.0,\n",
              "    decision_function_shape='ovr', degree=3, gamma='auto_deprecated',\n",
              "    kernel='rbf', max_iter=-1, probability=False, random_state=None,\n",
              "    shrinking=True, tol=0.001, verbose=False)"
            ]
          },
          "metadata": {
            "tags": []
          },
          "execution_count": 460
        }
      ]
    },
    {
      "cell_type": "code",
      "metadata": {
        "id": "lMlLL5TDrAVo",
        "colab_type": "code",
        "outputId": "8cab1de4-6baf-41f8-8b3e-40e6b74f9010",
        "colab": {
          "base_uri": "https://localhost:8080/",
          "height": 35
        }
      },
      "source": [
        "joblib.dump(clf,'clf.pkl')"
      ],
      "execution_count": 0,
      "outputs": [
        {
          "output_type": "execute_result",
          "data": {
            "text/plain": [
              "['clf.pkl']"
            ]
          },
          "metadata": {
            "tags": []
          },
          "execution_count": 461
        }
      ]
    },
    {
      "cell_type": "code",
      "metadata": {
        "id": "07SPvrftrK8s",
        "colab_type": "code",
        "outputId": "754abc71-6bca-42e2-cf3c-df4ef63d57fa",
        "colab": {
          "base_uri": "https://localhost:8080/",
          "height": 35
        }
      },
      "source": [
        "print(clf.predict(X[0:1]))"
      ],
      "execution_count": 0,
      "outputs": [
        {
          "output_type": "stream",
          "text": [
            "[0]\n"
          ],
          "name": "stdout"
        }
      ]
    }
  ]
}